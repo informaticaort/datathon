{
 "cells": [
  {
   "cell_type": "markdown",
   "metadata": {},
   "source": [
    "# Pyplot"
   ]
  },
  {
   "cell_type": "markdown",
   "metadata": {},
   "source": [
    "### Importación"
   ]
  },
  {
   "cell_type": "markdown",
   "metadata": {},
   "source": [
    "Para poder realizar el dibujo de gráficos correctamente, importaremos la librería Pyplot, que surje de una macrolibrería matplotlib."
   ]
  },
  {
   "cell_type": "code",
   "execution_count": 1,
   "metadata": {},
   "outputs": [],
   "source": [
    "from matplotlib import pyplot as plt"
   ]
  },
  {
   "cell_type": "markdown",
   "metadata": {},
   "source": [
    "### Ejemplo 1 - Gráfico basado en conjuntos de datos  "
   ]
  },
  {
   "cell_type": "markdown",
   "metadata": {},
   "source": [
    "Sean x,y,z conjuntos de elementos enteros"
   ]
  },
  {
   "cell_type": "code",
   "execution_count": 2,
   "metadata": {},
   "outputs": [],
   "source": [
    "x=[1,2,3]\n",
    "y=[1,4,9]\n",
    "z=[10,5,0]"
   ]
  },
  {
   "cell_type": "markdown",
   "metadata": {},
   "source": [
    "Nuestra referencia a pyplot es plt, por lo tanto, le diremos que deberá dibujar las rectas X y Z en función de Y \n",
    "\n",
    "plt.plot(x,y)\n",
    "\n",
    "plt.plot(z,y)\n",
    "\n",
    "Además, le daremos un título al gráfico, la leyenda de cada recta (X,Z) y la referencia a los ejes x e y.\n",
    "\n",
    "plt.title(\"Plot test\")\n",
    "\n",
    "plt.xlabel(\"x\")\n",
    "\n",
    "plt.ylabel(\"y and z\")\n",
    "\n",
    "plt.legend([\"X\",\"Z\"])\n",
    "\n",
    "Por último, le diremos a plt que nos muestre el gráfico generado. \n",
    "\n",
    "plt.show()\n",
    "\n",
    "Aquí abajo, la ejecución completa del código"
   ]
  },
  {
   "cell_type": "code",
   "execution_count": 3,
   "metadata": {},
   "outputs": [
    {
     "data": {
      "image/png": "[encoded data removed]",
      "text/plain": [
       "<Figure size 432x288 with 1 Axes>"
      ]
     },
     "metadata": {
      "needs_background": "light"
     },
     "output_type": "display_data"
    }
   ],
   "source": [
    "plt.plot(x,y) \n",
    "plt.plot(z,y)\n",
    "plt.title(\"Gráfico - Ejemplo 1\")\n",
    "plt.xlabel(\"x\")\n",
    "plt.ylabel(\"F(x)\")\n",
    "plt.legend([\"X\",\"Z\"])\n",
    "plt.show()"
   ]
  },
  {
   "cell_type": "markdown",
   "metadata": {},
   "source": [
    "# Pandas"
   ]
  },
  {
   "cell_type": "markdown",
   "metadata": {},
   "source": [
    "Pandas es una librería de Python que nos permitirá recorrer y interpretar colecciones de datos para realizar análisis de DataScience.\n",
    "Para poder utilizarla en nuestro programa, utilizaremos la siguiente línea para importar la librería: "
   ]
  },
  {
   "cell_type": "code",
   "execution_count": 4,
   "metadata": {},
   "outputs": [],
   "source": [
    "import pandas as pd"
   ]
  },
  {
   "cell_type": "markdown",
   "metadata": {},
   "source": [
    "'pd' será nuestra referencia a Pandas en todo el resto del programa. Podremos llamar a todos los métodos que propone la interfaz de pandas sin ningún problema"
   ]
  },
  {
   "cell_type": "markdown",
   "metadata": {},
   "source": [
    "### Ejemplo 2 - Lectura de un Dataset"
   ]
  },
  {
   "cell_type": "markdown",
   "metadata": {},
   "source": [
    "Un dataset es un conjunto de datos estructurado, que puede provenir tanto como de una dirección URL en diferentes formatos, como así tambien desde un archivo que se encuentre alojado en el disco duro. \n",
    "\n",
    "Para leer un archivo llamado ejemplo2.csv alojado en la carpeta datasets, realizamos la siguiente línea. \n",
    "\n"
   ]
  },
  {
   "cell_type": "code",
   "execution_count": 5,
   "metadata": {},
   "outputs": [],
   "source": [
    "df_ejemplo2 = pd.read_csv('datasets/ejemplo2.csv')"
   ]
  },
  {
   "cell_type": "markdown",
   "metadata": {},
   "source": [
    "Visualizemos por un rato, lo que contiene el archivo. Ahora mismo, se encuentra en la variable df_ejemplo2, por lo que procedemos a invocarla. df_ejemplo2 es de tipo Dataframe!"
   ]
  },
  {
   "cell_type": "code",
   "execution_count": 6,
   "metadata": {},
   "outputs": [
    {
     "data": {
      "text/html": [
       "<div>\n",
       "<style scoped>\n",
       "    .dataframe tbody tr th:only-of-type {\n",
       "        vertical-align: middle;\n",
       "    }\n",
       "\n",
       "    .dataframe tbody tr th {\n",
       "        vertical-align: top;\n",
       "    }\n",
       "\n",
       "    .dataframe thead th {\n",
       "        text-align: right;\n",
       "    }\n",
       "</style>\n",
       "<table border=\"1\" class=\"dataframe\">\n",
       "  <thead>\n",
       "    <tr style=\"text-align: right;\">\n",
       "      <th></th>\n",
       "      <th>column_a</th>\n",
       "      <th>column_b</th>\n",
       "      <th>column_c</th>\n",
       "    </tr>\n",
       "  </thead>\n",
       "  <tbody>\n",
       "    <tr>\n",
       "      <th>0</th>\n",
       "      <td>1</td>\n",
       "      <td>1</td>\n",
       "      <td>10</td>\n",
       "    </tr>\n",
       "    <tr>\n",
       "      <th>1</th>\n",
       "      <td>2</td>\n",
       "      <td>4</td>\n",
       "      <td>8</td>\n",
       "    </tr>\n",
       "    <tr>\n",
       "      <th>2</th>\n",
       "      <td>3</td>\n",
       "      <td>9</td>\n",
       "      <td>6</td>\n",
       "    </tr>\n",
       "    <tr>\n",
       "      <th>3</th>\n",
       "      <td>4</td>\n",
       "      <td>16</td>\n",
       "      <td>4</td>\n",
       "    </tr>\n",
       "    <tr>\n",
       "      <th>4</th>\n",
       "      <td>5</td>\n",
       "      <td>25</td>\n",
       "      <td>2</td>\n",
       "    </tr>\n",
       "  </tbody>\n",
       "</table>\n",
       "</div>"
      ],
      "text/plain": [
       "   column_a  column_b  column_c\n",
       "0         1         1        10\n",
       "1         2         4         8\n",
       "2         3         9         6\n",
       "3         4        16         4\n",
       "4         5        25         2"
      ]
     },
     "execution_count": 6,
     "metadata": {},
     "output_type": "execute_result"
    }
   ],
   "source": [
    "df_ejemplo2"
   ]
  },
  {
   "cell_type": "markdown",
   "metadata": {},
   "source": [
    "Hay 3 columnas, y 5 filas en este dataset. \n",
    "\n",
    "Vamos a ver cómo dibujar las rectas, tomando en cuenta estos datos. "
   ]
  },
  {
   "cell_type": "code",
   "execution_count": 7,
   "metadata": {},
   "outputs": [
    {
     "data": {
      "text/plain": [
       "[<matplotlib.lines.Line2D at 0x25b6ec927b8>]"
      ]
     },
     "execution_count": 7,
     "metadata": {},
     "output_type": "execute_result"
    },
    {
     "data": {
      "image/png": "[encoded data removed]",
      "text/plain": [
       "<Figure size 432x288 with 1 Axes>"
      ]
     },
     "metadata": {
      "needs_background": "light"
     },
     "output_type": "display_data"
    }
   ],
   "source": [
    "plt.plot(df_ejemplo2.column_a,df_ejemplo2.column_b, \"o\")\n",
    "plt.plot(df_ejemplo2.column_a,df_ejemplo2.column_c)"
   ]
  },
  {
   "cell_type": "markdown",
   "metadata": {},
   "source": [
    "Genial. El gráfico dibuja A respecto de B, y A respecto de C, la diferencia está en que la primera recta tiene una estructura un poco más exponencial que la segunda, que evidentemente es lineal. Además, dibujamos la recta marcando los puntos exactos y no su trayectoria, pasando como tercer parámetro la letra \"o\". Permite otros caracteres también, como x o d por ejemplo.  "
   ]
  },
  {
   "cell_type": "code",
   "execution_count": 8,
   "metadata": {},
   "outputs": [
    {
     "data": {
      "text/plain": [
       "[<matplotlib.lines.Line2D at 0x25b6ecdf1d0>]"
      ]
     },
     "execution_count": 8,
     "metadata": {},
     "output_type": "execute_result"
    },
    {
     "data": {
      "image/png": "[encoded data removed]",
      "text/plain": [
       "<Figure size 432x288 with 1 Axes>"
      ]
     },
     "metadata": {
      "needs_background": "light"
     },
     "output_type": "display_data"
    }
   ],
   "source": [
    "plt.plot(df_ejemplo2.column_a,df_ejemplo2.column_b, \"x\")\n",
    "plt.plot(df_ejemplo2.column_a,df_ejemplo2.column_c)"
   ]
  },
  {
   "cell_type": "markdown",
   "metadata": {},
   "source": [
    "### Ejemplo 3 - Análisis de datos"
   ]
  },
  {
   "cell_type": "markdown",
   "metadata": {},
   "source": [
    "Supongamos bien, que ahora nuestro dataset es de datos históricos de países. Procedemos a cargarlo en un Dataframe y a visualizar 10 valores al azar a modo de ejemplo."
   ]
  },
  {
   "cell_type": "code",
   "execution_count": 10,
   "metadata": {},
   "outputs": [
    {
     "data": {
      "text/html": [
       "<div>\n",
       "<style scoped>\n",
       "    .dataframe tbody tr th:only-of-type {\n",
       "        vertical-align: middle;\n",
       "    }\n",
       "\n",
       "    .dataframe tbody tr th {\n",
       "        vertical-align: top;\n",
       "    }\n",
       "\n",
       "    .dataframe thead th {\n",
       "        text-align: right;\n",
       "    }\n",
       "</style>\n",
       "<table border=\"1\" class=\"dataframe\">\n",
       "  <thead>\n",
       "    <tr style=\"text-align: right;\">\n",
       "      <th></th>\n",
       "      <th>country</th>\n",
       "      <th>year</th>\n",
       "      <th>population</th>\n",
       "    </tr>\n",
       "  </thead>\n",
       "  <tbody>\n",
       "    <tr>\n",
       "      <th>1495</th>\n",
       "      <td>Syria</td>\n",
       "      <td>1987</td>\n",
       "      <td>11242847</td>\n",
       "    </tr>\n",
       "    <tr>\n",
       "      <th>245</th>\n",
       "      <td>Canada</td>\n",
       "      <td>1977</td>\n",
       "      <td>23796400</td>\n",
       "    </tr>\n",
       "    <tr>\n",
       "      <th>349</th>\n",
       "      <td>Costa Rica</td>\n",
       "      <td>1957</td>\n",
       "      <td>1112300</td>\n",
       "    </tr>\n",
       "    <tr>\n",
       "      <th>1577</th>\n",
       "      <td>Turkey</td>\n",
       "      <td>1977</td>\n",
       "      <td>42404033</td>\n",
       "    </tr>\n",
       "    <tr>\n",
       "      <th>995</th>\n",
       "      <td>Mexico</td>\n",
       "      <td>2007</td>\n",
       "      <td>108700891</td>\n",
       "    </tr>\n",
       "    <tr>\n",
       "      <th>1269</th>\n",
       "      <td>Reunion</td>\n",
       "      <td>1997</td>\n",
       "      <td>684810</td>\n",
       "    </tr>\n",
       "    <tr>\n",
       "      <th>251</th>\n",
       "      <td>Canada</td>\n",
       "      <td>2007</td>\n",
       "      <td>33390141</td>\n",
       "    </tr>\n",
       "    <tr>\n",
       "      <th>360</th>\n",
       "      <td>Cote d'Ivoire</td>\n",
       "      <td>1952</td>\n",
       "      <td>2977019</td>\n",
       "    </tr>\n",
       "    <tr>\n",
       "      <th>1053</th>\n",
       "      <td>Myanmar</td>\n",
       "      <td>1997</td>\n",
       "      <td>43247867</td>\n",
       "    </tr>\n",
       "    <tr>\n",
       "      <th>1260</th>\n",
       "      <td>Reunion</td>\n",
       "      <td>1952</td>\n",
       "      <td>257700</td>\n",
       "    </tr>\n",
       "    <tr>\n",
       "      <th>18</th>\n",
       "      <td>Albania</td>\n",
       "      <td>1982</td>\n",
       "      <td>2780097</td>\n",
       "    </tr>\n",
       "    <tr>\n",
       "      <th>1494</th>\n",
       "      <td>Syria</td>\n",
       "      <td>1982</td>\n",
       "      <td>9410494</td>\n",
       "    </tr>\n",
       "    <tr>\n",
       "      <th>1432</th>\n",
       "      <td>Sri Lanka</td>\n",
       "      <td>1972</td>\n",
       "      <td>13016733</td>\n",
       "    </tr>\n",
       "    <tr>\n",
       "      <th>144</th>\n",
       "      <td>Bosnia and Herzegovina</td>\n",
       "      <td>1952</td>\n",
       "      <td>2791000</td>\n",
       "    </tr>\n",
       "    <tr>\n",
       "      <th>974</th>\n",
       "      <td>Mauritius</td>\n",
       "      <td>1962</td>\n",
       "      <td>701016</td>\n",
       "    </tr>\n",
       "    <tr>\n",
       "      <th>597</th>\n",
       "      <td>Greece</td>\n",
       "      <td>1997</td>\n",
       "      <td>10502372</td>\n",
       "    </tr>\n",
       "    <tr>\n",
       "      <th>346</th>\n",
       "      <td>Congo, Rep.</td>\n",
       "      <td>2002</td>\n",
       "      <td>3328795</td>\n",
       "    </tr>\n",
       "    <tr>\n",
       "      <th>1055</th>\n",
       "      <td>Myanmar</td>\n",
       "      <td>2007</td>\n",
       "      <td>47761980</td>\n",
       "    </tr>\n",
       "    <tr>\n",
       "      <th>348</th>\n",
       "      <td>Costa Rica</td>\n",
       "      <td>1952</td>\n",
       "      <td>926317</td>\n",
       "    </tr>\n",
       "    <tr>\n",
       "      <th>1334</th>\n",
       "      <td>Serbia</td>\n",
       "      <td>1962</td>\n",
       "      <td>7616060</td>\n",
       "    </tr>\n",
       "  </tbody>\n",
       "</table>\n",
       "</div>"
      ],
      "text/plain": [
       "                     country  year  population\n",
       "1495                   Syria  1987    11242847\n",
       "245                   Canada  1977    23796400\n",
       "349               Costa Rica  1957     1112300\n",
       "1577                  Turkey  1977    42404033\n",
       "995                   Mexico  2007   108700891\n",
       "1269                 Reunion  1997      684810\n",
       "251                   Canada  2007    33390141\n",
       "360            Cote d'Ivoire  1952     2977019\n",
       "1053                 Myanmar  1997    43247867\n",
       "1260                 Reunion  1952      257700\n",
       "18                   Albania  1982     2780097\n",
       "1494                   Syria  1982     9410494\n",
       "1432               Sri Lanka  1972    13016733\n",
       "144   Bosnia and Herzegovina  1952     2791000\n",
       "974                Mauritius  1962      701016\n",
       "597                   Greece  1997    10502372\n",
       "346              Congo, Rep.  2002     3328795\n",
       "1055                 Myanmar  2007    47761980\n",
       "348               Costa Rica  1952      926317\n",
       "1334                  Serbia  1962     7616060"
      ]
     },
     "execution_count": 10,
     "metadata": {},
     "output_type": "execute_result"
    }
   ],
   "source": [
    "df_ejemplo3 = pd.read_csv('datasets/countries.csv')\n",
    "df_ejemplo3.sample(20)"
   ]
  },
  {
   "cell_type": "markdown",
   "metadata": {},
   "source": [
    "Si queremos ver la información únicamente de Argentina, podemos realizar un filtro sobre el Dataframe, y guardarlo en otra variable (llamada en este caso df_parcial_arg)"
   ]
  },
  {
   "cell_type": "code",
   "execution_count": 11,
   "metadata": {},
   "outputs": [
    {
     "data": {
      "text/html": [
       "<div>\n",
       "<style scoped>\n",
       "    .dataframe tbody tr th:only-of-type {\n",
       "        vertical-align: middle;\n",
       "    }\n",
       "\n",
       "    .dataframe tbody tr th {\n",
       "        vertical-align: top;\n",
       "    }\n",
       "\n",
       "    .dataframe thead th {\n",
       "        text-align: right;\n",
       "    }\n",
       "</style>\n",
       "<table border=\"1\" class=\"dataframe\">\n",
       "  <thead>\n",
       "    <tr style=\"text-align: right;\">\n",
       "      <th></th>\n",
       "      <th>country</th>\n",
       "      <th>year</th>\n",
       "      <th>population</th>\n",
       "    </tr>\n",
       "  </thead>\n",
       "  <tbody>\n",
       "    <tr>\n",
       "      <th>48</th>\n",
       "      <td>Argentina</td>\n",
       "      <td>1952</td>\n",
       "      <td>17876956</td>\n",
       "    </tr>\n",
       "    <tr>\n",
       "      <th>49</th>\n",
       "      <td>Argentina</td>\n",
       "      <td>1957</td>\n",
       "      <td>19610538</td>\n",
       "    </tr>\n",
       "    <tr>\n",
       "      <th>50</th>\n",
       "      <td>Argentina</td>\n",
       "      <td>1962</td>\n",
       "      <td>21283783</td>\n",
       "    </tr>\n",
       "    <tr>\n",
       "      <th>51</th>\n",
       "      <td>Argentina</td>\n",
       "      <td>1967</td>\n",
       "      <td>22934225</td>\n",
       "    </tr>\n",
       "    <tr>\n",
       "      <th>52</th>\n",
       "      <td>Argentina</td>\n",
       "      <td>1972</td>\n",
       "      <td>24779799</td>\n",
       "    </tr>\n",
       "    <tr>\n",
       "      <th>53</th>\n",
       "      <td>Argentina</td>\n",
       "      <td>1977</td>\n",
       "      <td>26983828</td>\n",
       "    </tr>\n",
       "    <tr>\n",
       "      <th>54</th>\n",
       "      <td>Argentina</td>\n",
       "      <td>1982</td>\n",
       "      <td>29341374</td>\n",
       "    </tr>\n",
       "    <tr>\n",
       "      <th>55</th>\n",
       "      <td>Argentina</td>\n",
       "      <td>1987</td>\n",
       "      <td>31620918</td>\n",
       "    </tr>\n",
       "    <tr>\n",
       "      <th>56</th>\n",
       "      <td>Argentina</td>\n",
       "      <td>1992</td>\n",
       "      <td>33958947</td>\n",
       "    </tr>\n",
       "    <tr>\n",
       "      <th>57</th>\n",
       "      <td>Argentina</td>\n",
       "      <td>1997</td>\n",
       "      <td>36203463</td>\n",
       "    </tr>\n",
       "    <tr>\n",
       "      <th>58</th>\n",
       "      <td>Argentina</td>\n",
       "      <td>2002</td>\n",
       "      <td>38331121</td>\n",
       "    </tr>\n",
       "    <tr>\n",
       "      <th>59</th>\n",
       "      <td>Argentina</td>\n",
       "      <td>2007</td>\n",
       "      <td>40301927</td>\n",
       "    </tr>\n",
       "  </tbody>\n",
       "</table>\n",
       "</div>"
      ],
      "text/plain": [
       "      country  year  population\n",
       "48  Argentina  1952    17876956\n",
       "49  Argentina  1957    19610538\n",
       "50  Argentina  1962    21283783\n",
       "51  Argentina  1967    22934225\n",
       "52  Argentina  1972    24779799\n",
       "53  Argentina  1977    26983828\n",
       "54  Argentina  1982    29341374\n",
       "55  Argentina  1987    31620918\n",
       "56  Argentina  1992    33958947\n",
       "57  Argentina  1997    36203463\n",
       "58  Argentina  2002    38331121\n",
       "59  Argentina  2007    40301927"
      ]
     },
     "execution_count": 11,
     "metadata": {},
     "output_type": "execute_result"
    }
   ],
   "source": [
    "df_parcial_arg=df_ejemplo3[df_ejemplo3.country=='Argentina']\n",
    "df_parcial_arg"
   ]
  },
  {
   "cell_type": "markdown",
   "metadata": {},
   "source": [
    "Tomemos ahora en otro dataframe, los datos de Brasil"
   ]
  },
  {
   "cell_type": "code",
   "execution_count": 12,
   "metadata": {},
   "outputs": [
    {
     "data": {
      "text/html": [
       "<div>\n",
       "<style scoped>\n",
       "    .dataframe tbody tr th:only-of-type {\n",
       "        vertical-align: middle;\n",
       "    }\n",
       "\n",
       "    .dataframe tbody tr th {\n",
       "        vertical-align: top;\n",
       "    }\n",
       "\n",
       "    .dataframe thead th {\n",
       "        text-align: right;\n",
       "    }\n",
       "</style>\n",
       "<table border=\"1\" class=\"dataframe\">\n",
       "  <thead>\n",
       "    <tr style=\"text-align: right;\">\n",
       "      <th></th>\n",
       "      <th>country</th>\n",
       "      <th>year</th>\n",
       "      <th>population</th>\n",
       "    </tr>\n",
       "  </thead>\n",
       "  <tbody>\n",
       "    <tr>\n",
       "      <th>168</th>\n",
       "      <td>Brazil</td>\n",
       "      <td>1952</td>\n",
       "      <td>56602560</td>\n",
       "    </tr>\n",
       "    <tr>\n",
       "      <th>169</th>\n",
       "      <td>Brazil</td>\n",
       "      <td>1957</td>\n",
       "      <td>65551171</td>\n",
       "    </tr>\n",
       "    <tr>\n",
       "      <th>170</th>\n",
       "      <td>Brazil</td>\n",
       "      <td>1962</td>\n",
       "      <td>76039390</td>\n",
       "    </tr>\n",
       "    <tr>\n",
       "      <th>171</th>\n",
       "      <td>Brazil</td>\n",
       "      <td>1967</td>\n",
       "      <td>88049823</td>\n",
       "    </tr>\n",
       "    <tr>\n",
       "      <th>172</th>\n",
       "      <td>Brazil</td>\n",
       "      <td>1972</td>\n",
       "      <td>100840058</td>\n",
       "    </tr>\n",
       "    <tr>\n",
       "      <th>173</th>\n",
       "      <td>Brazil</td>\n",
       "      <td>1977</td>\n",
       "      <td>114313951</td>\n",
       "    </tr>\n",
       "    <tr>\n",
       "      <th>174</th>\n",
       "      <td>Brazil</td>\n",
       "      <td>1982</td>\n",
       "      <td>128962939</td>\n",
       "    </tr>\n",
       "    <tr>\n",
       "      <th>175</th>\n",
       "      <td>Brazil</td>\n",
       "      <td>1987</td>\n",
       "      <td>142938076</td>\n",
       "    </tr>\n",
       "    <tr>\n",
       "      <th>176</th>\n",
       "      <td>Brazil</td>\n",
       "      <td>1992</td>\n",
       "      <td>155975974</td>\n",
       "    </tr>\n",
       "    <tr>\n",
       "      <th>177</th>\n",
       "      <td>Brazil</td>\n",
       "      <td>1997</td>\n",
       "      <td>168546719</td>\n",
       "    </tr>\n",
       "    <tr>\n",
       "      <th>178</th>\n",
       "      <td>Brazil</td>\n",
       "      <td>2002</td>\n",
       "      <td>179914212</td>\n",
       "    </tr>\n",
       "    <tr>\n",
       "      <th>179</th>\n",
       "      <td>Brazil</td>\n",
       "      <td>2007</td>\n",
       "      <td>190010647</td>\n",
       "    </tr>\n",
       "  </tbody>\n",
       "</table>\n",
       "</div>"
      ],
      "text/plain": [
       "    country  year  population\n",
       "168  Brazil  1952    56602560\n",
       "169  Brazil  1957    65551171\n",
       "170  Brazil  1962    76039390\n",
       "171  Brazil  1967    88049823\n",
       "172  Brazil  1972   100840058\n",
       "173  Brazil  1977   114313951\n",
       "174  Brazil  1982   128962939\n",
       "175  Brazil  1987   142938076\n",
       "176  Brazil  1992   155975974\n",
       "177  Brazil  1997   168546719\n",
       "178  Brazil  2002   179914212\n",
       "179  Brazil  2007   190010647"
      ]
     },
     "execution_count": 12,
     "metadata": {},
     "output_type": "execute_result"
    }
   ],
   "source": [
    "df_parcial_bra=df_ejemplo3[df_ejemplo3.country=='Brazil']\n",
    "df_parcial_bra"
   ]
  },
  {
   "cell_type": "markdown",
   "metadata": {},
   "source": [
    "Ahora, comparemos en un gráfico, los datos de crecimiento de población en Argentina respecto a los datos de Brasil. Los resultados a mostrar estarán expresados en millones."
   ]
  },
  {
   "cell_type": "code",
   "execution_count": 13,
   "metadata": {},
   "outputs": [
    {
     "data": {
      "image/png": "[encoded data removed]",
      "text/plain": [
       "<Figure size 432x288 with 1 Axes>"
      ]
     },
     "metadata": {
      "needs_background": "light"
     },
     "output_type": "display_data"
    }
   ],
   "source": [
    "plt.plot(df_parcial_arg.year, df_parcial_arg.population / 10**6)\n",
    "plt.plot(df_parcial_bra.year, df_parcial_bra.population / 10**6)\n",
    "plt.legend(['ARG','BRA'])\n",
    "plt.xlabel(\"Años\")\n",
    "plt.ylabel(\"Población (en millones)\")\n",
    "plt.show()"
   ]
  },
  {
   "cell_type": "markdown",
   "metadata": {},
   "source": [
    "### Algunas funcionalidades más a tener en cuenta"
   ]
  },
  {
   "cell_type": "markdown",
   "metadata": {},
   "source": [
    "Para obtener el tamaño de un Dataframe, utilizamos el atributo shape"
   ]
  },
  {
   "cell_type": "code",
   "execution_count": 14,
   "metadata": {},
   "outputs": [
    {
     "name": "stdout",
     "output_type": "stream",
     "text": [
      "el Dataframe general tiene filas y columnas: (1704, 3)\n",
      "el Dataframe de Argentina tiene filas y columnas:(12, 3)\n"
     ]
    }
   ],
   "source": [
    "print(\"el Dataframe general tiene filas y columnas: \"+str(df_ejemplo3.shape))\n",
    "print(\"el Dataframe de Argentina tiene filas y columnas:\"+str(df_parcial_arg.shape))"
   ]
  },
  {
   "cell_type": "markdown",
   "metadata": {},
   "source": [
    "Si quiero obtener la cantidad de registros por país, puedo usar value_counts(), a partir del campo country (en este caso)"
   ]
  },
  {
   "cell_type": "code",
   "execution_count": 15,
   "metadata": {},
   "outputs": [
    {
     "data": {
      "text/plain": [
       "Poland           12\n",
       "Philippines      12\n",
       "Romania          12\n",
       "Netherlands      12\n",
       "Djibouti         12\n",
       "Australia        12\n",
       "Algeria          12\n",
       "Bulgaria         12\n",
       "United States    12\n",
       "Ethiopia         12\n",
       "Name: country, dtype: int64"
      ]
     },
     "execution_count": 15,
     "metadata": {},
     "output_type": "execute_result"
    }
   ],
   "source": [
    "df_ejemplo3.country.value_counts().sample(10)"
   ]
  },
  {
   "cell_type": "markdown",
   "metadata": {},
   "source": [
    "Para estos datos que contienen dos columnas, y que podría variar el valor, puedo generar gráficos de doble entrada con subplots. Investigar!!!\n"
   ]
  },
  {
   "cell_type": "markdown",
   "metadata": {},
   "source": [
    "Con \"contains\", puedo realizar una búsqueda sobre cualquier campo de un Dataframe. \n",
    "En este caso, obtendremos un Dataframe con los datos de todos los países que contengan una letra Y en su nombre"
   ]
  },
  {
   "cell_type": "code",
   "execution_count": 16,
   "metadata": {},
   "outputs": [
    {
     "data": {
      "text/html": [
       "<div>\n",
       "<style scoped>\n",
       "    .dataframe tbody tr th:only-of-type {\n",
       "        vertical-align: middle;\n",
       "    }\n",
       "\n",
       "    .dataframe tbody tr th {\n",
       "        vertical-align: top;\n",
       "    }\n",
       "\n",
       "    .dataframe thead th {\n",
       "        text-align: right;\n",
       "    }\n",
       "</style>\n",
       "<table border=\"1\" class=\"dataframe\">\n",
       "  <thead>\n",
       "    <tr style=\"text-align: right;\">\n",
       "      <th></th>\n",
       "      <th>country</th>\n",
       "      <th>year</th>\n",
       "      <th>population</th>\n",
       "    </tr>\n",
       "  </thead>\n",
       "  <tbody>\n",
       "    <tr>\n",
       "      <th>907</th>\n",
       "      <td>Libya</td>\n",
       "      <td>1987</td>\n",
       "      <td>3799845</td>\n",
       "    </tr>\n",
       "    <tr>\n",
       "      <th>1577</th>\n",
       "      <td>Turkey</td>\n",
       "      <td>1977</td>\n",
       "      <td>42404033</td>\n",
       "    </tr>\n",
       "    <tr>\n",
       "      <th>1492</th>\n",
       "      <td>Syria</td>\n",
       "      <td>1972</td>\n",
       "      <td>6701172</td>\n",
       "    </tr>\n",
       "    <tr>\n",
       "      <th>818</th>\n",
       "      <td>Kenya</td>\n",
       "      <td>1962</td>\n",
       "      <td>8678557</td>\n",
       "    </tr>\n",
       "    <tr>\n",
       "      <th>1044</th>\n",
       "      <td>Myanmar</td>\n",
       "      <td>1952</td>\n",
       "      <td>20092996</td>\n",
       "    </tr>\n",
       "    <tr>\n",
       "      <th>1496</th>\n",
       "      <td>Syria</td>\n",
       "      <td>1992</td>\n",
       "      <td>13219062</td>\n",
       "    </tr>\n",
       "    <tr>\n",
       "      <th>1045</th>\n",
       "      <td>Myanmar</td>\n",
       "      <td>1957</td>\n",
       "      <td>21731844</td>\n",
       "    </tr>\n",
       "    <tr>\n",
       "      <th>825</th>\n",
       "      <td>Kenya</td>\n",
       "      <td>1997</td>\n",
       "      <td>28263827</td>\n",
       "    </tr>\n",
       "    <tr>\n",
       "      <th>821</th>\n",
       "      <td>Kenya</td>\n",
       "      <td>1977</td>\n",
       "      <td>14500404</td>\n",
       "    </tr>\n",
       "    <tr>\n",
       "      <th>675</th>\n",
       "      <td>Hungary</td>\n",
       "      <td>1967</td>\n",
       "      <td>10223422</td>\n",
       "    </tr>\n",
       "  </tbody>\n",
       "</table>\n",
       "</div>"
      ],
      "text/plain": [
       "      country  year  population\n",
       "907     Libya  1987     3799845\n",
       "1577   Turkey  1977    42404033\n",
       "1492    Syria  1972     6701172\n",
       "818     Kenya  1962     8678557\n",
       "1044  Myanmar  1952    20092996\n",
       "1496    Syria  1992    13219062\n",
       "1045  Myanmar  1957    21731844\n",
       "825     Kenya  1997    28263827\n",
       "821     Kenya  1977    14500404\n",
       "675   Hungary  1967    10223422"
      ]
     },
     "execution_count": 16,
     "metadata": {},
     "output_type": "execute_result"
    }
   ],
   "source": [
    "search=\"y\"\n",
    "df_busqueda=df_ejemplo3[df_ejemplo3['country'].str.contains(search)]\n",
    "df_busqueda.sample(10)"
   ]
  },
  {
   "cell_type": "markdown",
   "metadata": {},
   "source": [
    "Ya finalizamos nuestra primera unidad de aprendizaje de DataScience. Estamos listos para el primer trabajo práctico sobre análisis de datos del hundimiento del Titanic!"
   ]
  },
  {
   "cell_type": "code",
   "execution_count": null,
   "metadata": {},
   "outputs": [],
   "source": []
  }
 ],
 "metadata": {
  "kernelspec": {
   "display_name": "Python 3",
   "language": "python",
   "name": "python3"
  },
  "language_info": {
   "codemirror_mode": {
    "name": "ipython",
    "version": 3
   },
   "file_extension": ".py",
   "mimetype": "text/x-python",
   "name": "python",
   "nbconvert_exporter": "python",
   "pygments_lexer": "ipython3",
   "version": "3.7.3"
  }
 },
 "nbformat": 4,
 "nbformat_minor": 2
}
