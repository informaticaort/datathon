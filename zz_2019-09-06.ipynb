{
 "cells": [
  {
   "cell_type": "markdown",
   "metadata": {},
   "source": [
    "# Titulo de mi programa\n",
    "Bienvenidos a mi programa que es el mejor de Python\n",
    "\n",
    "## Parte 1"
   ]
  },
  {
   "cell_type": "code",
   "execution_count": 2,
   "metadata": {},
   "outputs": [
    {
     "data": {
      "text/plain": [
       "30"
      ]
     },
     "execution_count": 2,
     "metadata": {},
     "output_type": "execute_result"
    }
   ],
   "source": [
    "5*6"
   ]
  },
  {
   "cell_type": "code",
   "execution_count": 4,
   "metadata": {},
   "outputs": [
    {
     "name": "stdout",
     "output_type": "stream",
     "text": [
      "hola\n"
     ]
    }
   ],
   "source": [
    "print('hola')\n",
    "var=2"
   ]
  },
  {
   "cell_type": "code",
   "execution_count": 5,
   "metadata": {},
   "outputs": [],
   "source": [
    "var3=10"
   ]
  },
  {
   "cell_type": "code",
   "execution_count": 6,
   "metadata": {},
   "outputs": [
    {
     "data": {
      "text/plain": [
       "12"
      ]
     },
     "execution_count": 6,
     "metadata": {},
     "output_type": "execute_result"
    }
   ],
   "source": [
    "var+var3"
   ]
  },
  {
   "cell_type": "code",
   "execution_count": 7,
   "metadata": {},
   "outputs": [],
   "source": [
    "lista=['suva','nico','gluk','elpity','dasman']"
   ]
  },
  {
   "cell_type": "code",
   "execution_count": 9,
   "metadata": {},
   "outputs": [
    {
     "data": {
      "text/plain": [
       "5"
      ]
     },
     "execution_count": 9,
     "metadata": {},
     "output_type": "execute_result"
    }
   ],
   "source": [
    "len(lista)"
   ]
  },
  {
   "cell_type": "code",
   "execution_count": 35,
   "metadata": {},
   "outputs": [
    {
     "name": "stdout",
     "output_type": "stream",
     "text": [
      "suva 4  caracteres\n",
      "nico 4  caracteres\n",
      "gluk 4  caracteres\n",
      "elpity 6  caracteres\n",
      "dasman 6  caracteres\n"
     ]
    }
   ],
   "source": [
    "for i in lista:\n",
    "    print(i, len(i), ' caracteres')"
   ]
  },
  {
   "cell_type": "code",
   "execution_count": 36,
   "metadata": {},
   "outputs": [
    {
     "data": {
      "text/plain": [
       "'dasman'"
      ]
     },
     "execution_count": 36,
     "metadata": {},
     "output_type": "execute_result"
    }
   ],
   "source": [
    "lista[-1]"
   ]
  },
  {
   "cell_type": "code",
   "execution_count": 32,
   "metadata": {
    "scrolled": true
   },
   "outputs": [
    {
     "data": {
      "text/plain": [
       "['nico', 'gluk', 'elpity', 'dasman']"
      ]
     },
     "execution_count": 32,
     "metadata": {},
     "output_type": "execute_result"
    }
   ],
   "source": [
    "lista[1:5]"
   ]
  },
  {
   "cell_type": "code",
   "execution_count": 37,
   "metadata": {},
   "outputs": [
    {
     "data": {
      "text/plain": [
       "['suva', 'elpity']"
      ]
     },
     "execution_count": 37,
     "metadata": {},
     "output_type": "execute_result"
    }
   ],
   "source": [
    "lista[::3]"
   ]
  },
  {
   "cell_type": "code",
   "execution_count": 38,
   "metadata": {},
   "outputs": [
    {
     "data": {
      "text/plain": [
       "[(0, 'suva'), (1, 'nico'), (2, 'gluk'), (3, 'elpity'), (4, 'dasman')]"
      ]
     },
     "execution_count": 38,
     "metadata": {},
     "output_type": "execute_result"
    }
   ],
   "source": [
    "list(enumerate(lista))"
   ]
  },
  {
   "cell_type": "code",
   "execution_count": 39,
   "metadata": {},
   "outputs": [
    {
     "data": {
      "text/plain": [
       "['suva', 'nico', 'gluk', 'elpity', 'dasman']"
      ]
     },
     "execution_count": 39,
     "metadata": {},
     "output_type": "execute_result"
    }
   ],
   "source": [
    "lista"
   ]
  },
  {
   "cell_type": "code",
   "execution_count": 43,
   "metadata": {},
   "outputs": [],
   "source": [
    "nombres=['binker','fede','barki']\n",
    "edades=[24,21,21]\n",
    "apellidos=['binker','perchuk','barki']"
   ]
  },
  {
   "cell_type": "code",
   "execution_count": 44,
   "metadata": {},
   "outputs": [
    {
     "data": {
      "text/plain": [
       "['binker', 'fede', 'barki']"
      ]
     },
     "execution_count": 44,
     "metadata": {},
     "output_type": "execute_result"
    }
   ],
   "source": [
    "nombres"
   ]
  },
  {
   "cell_type": "code",
   "execution_count": 45,
   "metadata": {},
   "outputs": [
    {
     "data": {
      "text/plain": [
       "[24, 21, 21]"
      ]
     },
     "execution_count": 45,
     "metadata": {},
     "output_type": "execute_result"
    }
   ],
   "source": [
    "edades"
   ]
  },
  {
   "cell_type": "code",
   "execution_count": 49,
   "metadata": {},
   "outputs": [],
   "source": [
    "mizip=zip(nombres,edades,apellidos)"
   ]
  },
  {
   "cell_type": "code",
   "execution_count": 50,
   "metadata": {},
   "outputs": [],
   "source": [
    "informacion=list(mizip)"
   ]
  },
  {
   "cell_type": "code",
   "execution_count": 51,
   "metadata": {},
   "outputs": [
    {
     "data": {
      "text/plain": [
       "[('binker', 24, 'binker'), ('fede', 21, 'perchuk'), ('barki', 21, 'barki')]"
      ]
     },
     "execution_count": 51,
     "metadata": {},
     "output_type": "execute_result"
    }
   ],
   "source": [
    "informacion"
   ]
  },
  {
   "cell_type": "code",
   "execution_count": 52,
   "metadata": {},
   "outputs": [
    {
     "data": {
      "text/plain": [
       "<zip at 0xdd34e0>"
      ]
     },
     "execution_count": 52,
     "metadata": {},
     "output_type": "execute_result"
    }
   ],
   "source": [
    "mizip"
   ]
  },
  {
   "cell_type": "code",
   "execution_count": 53,
   "metadata": {},
   "outputs": [
    {
     "data": {
      "text/plain": [
       "('binker', 24, 'binker')"
      ]
     },
     "execution_count": 53,
     "metadata": {},
     "output_type": "execute_result"
    }
   ],
   "source": [
    "informacion[0]"
   ]
  },
  {
   "cell_type": "code",
   "execution_count": 54,
   "metadata": {},
   "outputs": [
    {
     "data": {
      "text/plain": [
       "24"
      ]
     },
     "execution_count": 54,
     "metadata": {},
     "output_type": "execute_result"
    }
   ],
   "source": [
    "informacion[0][1]"
   ]
  },
  {
   "cell_type": "code",
   "execution_count": 55,
   "metadata": {},
   "outputs": [
    {
     "data": {
      "text/plain": [
       "21"
      ]
     },
     "execution_count": 55,
     "metadata": {},
     "output_type": "execute_result"
    }
   ],
   "source": [
    "informacion[1][1]"
   ]
  },
  {
   "cell_type": "code",
   "execution_count": 57,
   "metadata": {},
   "outputs": [],
   "source": [
    "import pandas as pd"
   ]
  },
  {
   "cell_type": "code",
   "execution_count": 61,
   "metadata": {},
   "outputs": [],
   "source": [
    "dataframe=pd.read_csv('datasets/establecimentos-elecciones-2017.csv', sep=';')"
   ]
  },
  {
   "cell_type": "code",
   "execution_count": 62,
   "metadata": {},
   "outputs": [
    {
     "data": {
      "text/html": [
       "<div>\n",
       "<style scoped>\n",
       "    .dataframe tbody tr th:only-of-type {\n",
       "        vertical-align: middle;\n",
       "    }\n",
       "\n",
       "    .dataframe tbody tr th {\n",
       "        vertical-align: top;\n",
       "    }\n",
       "\n",
       "    .dataframe thead th {\n",
       "        text-align: right;\n",
       "    }\n",
       "</style>\n",
       "<table border=\"1\" class=\"dataframe\">\n",
       "  <thead>\n",
       "    <tr style=\"text-align: right;\">\n",
       "      <th></th>\n",
       "      <th>ESTABLECIMIENTOS</th>\n",
       "      <th>DIRECCION</th>\n",
       "      <th>CALLE</th>\n",
       "      <th>ALTURA</th>\n",
       "      <th>BARRIO</th>\n",
       "      <th>COMUNA</th>\n",
       "      <th>CODIGO_POSTAL</th>\n",
       "      <th>CODIGO_POSTAL_ARGENTINO</th>\n",
       "      <th>LAT</th>\n",
       "      <th>LNG</th>\n",
       "    </tr>\n",
       "  </thead>\n",
       "  <tbody>\n",
       "    <tr>\n",
       "      <td>0</td>\n",
       "      <td>UBA FACULTAD DE DERECHO Y CS. SOCIALES</td>\n",
       "      <td>FIGUEROA ALCORTA, PRES. AV. 2263</td>\n",
       "      <td>FIGUEROA ALCORTA, PRES. AV.</td>\n",
       "      <td>2263</td>\n",
       "      <td>RECOLETA</td>\n",
       "      <td>COMUNA 2</td>\n",
       "      <td>1425</td>\n",
       "      <td>C1425CKB</td>\n",
       "      <td>-34.583289</td>\n",
       "      <td>-58.392373</td>\n",
       "    </tr>\n",
       "    <tr>\n",
       "      <td>1</td>\n",
       "      <td>ESCUELA Nº3 DE 1 O. LEGUIZAMON</td>\n",
       "      <td>SANTA FE AV. 1510</td>\n",
       "      <td>SANTA FE AV.</td>\n",
       "      <td>1510</td>\n",
       "      <td>RECOLETA</td>\n",
       "      <td>COMUNA 2</td>\n",
       "      <td>1060</td>\n",
       "      <td>C1060ABO</td>\n",
       "      <td>-34.595848</td>\n",
       "      <td>-58.388627</td>\n",
       "    </tr>\n",
       "    <tr>\n",
       "      <td>2</td>\n",
       "      <td>ESCUELA Nº23 DE 6 PROV. DE ENTRE RIOS</td>\n",
       "      <td>BOEDO AV. 1935</td>\n",
       "      <td>BOEDO AV.</td>\n",
       "      <td>1935</td>\n",
       "      <td>BOEDO</td>\n",
       "      <td>COMUNA 5</td>\n",
       "      <td>1239</td>\n",
       "      <td>C1239AAJ</td>\n",
       "      <td>-34.636566</td>\n",
       "      <td>-58.416301</td>\n",
       "    </tr>\n",
       "    <tr>\n",
       "      <td>3</td>\n",
       "      <td>ESCUELA Nº 20 DE 2 R. PEÑALOZA</td>\n",
       "      <td>PRINGLES 1165</td>\n",
       "      <td>PRINGLES</td>\n",
       "      <td>1165</td>\n",
       "      <td>ALMAGRO</td>\n",
       "      <td>COMUNA 5</td>\n",
       "      <td>1183</td>\n",
       "      <td>C1183AEU</td>\n",
       "      <td>-34.598466</td>\n",
       "      <td>-58.426465</td>\n",
       "    </tr>\n",
       "    <tr>\n",
       "      <td>4</td>\n",
       "      <td>ESCUELA Nº 30 DR. E. GASCON</td>\n",
       "      <td>SAN BLAS 5387</td>\n",
       "      <td>SAN BLAS</td>\n",
       "      <td>5387</td>\n",
       "      <td>VILLA LURO</td>\n",
       "      <td>COMUNA 10</td>\n",
       "      <td>1407</td>\n",
       "      <td>C1407FUO</td>\n",
       "      <td>-34.630591</td>\n",
       "      <td>-58.508890</td>\n",
       "    </tr>\n",
       "    <tr>\n",
       "      <td>5</td>\n",
       "      <td>ESCUELA Nº2 REPUBLICA DE PANAMA</td>\n",
       "      <td>SAN MARTIN AV. 6387</td>\n",
       "      <td>SAN MARTIN AV.</td>\n",
       "      <td>6387</td>\n",
       "      <td>VILLA DEVOTO</td>\n",
       "      <td>COMUNA 11</td>\n",
       "      <td>1419</td>\n",
       "      <td>C1419ICA</td>\n",
       "      <td>-34.593939</td>\n",
       "      <td>-58.504850</td>\n",
       "    </tr>\n",
       "    <tr>\n",
       "      <td>6</td>\n",
       "      <td>INSTITUTO SAN MARIA DE LOS ANGELES</td>\n",
       "      <td>PEDRAZA, MANUELA 3950</td>\n",
       "      <td>PEDRAZA, MANUELA</td>\n",
       "      <td>3950</td>\n",
       "      <td>COGHLAN</td>\n",
       "      <td>COMUNA 12</td>\n",
       "      <td>1430</td>\n",
       "      <td>C1430AOL</td>\n",
       "      <td>-34.559086</td>\n",
       "      <td>-58.479997</td>\n",
       "    </tr>\n",
       "    <tr>\n",
       "      <td>7</td>\n",
       "      <td>ESCUELA Nº12 DE 9 R. CASTILLA</td>\n",
       "      <td>CONDE 943</td>\n",
       "      <td>CONDE</td>\n",
       "      <td>943</td>\n",
       "      <td>COLEGIALES</td>\n",
       "      <td>COMUNA 13</td>\n",
       "      <td>1426</td>\n",
       "      <td>C1426AYS</td>\n",
       "      <td>-34.576539</td>\n",
       "      <td>-58.452345</td>\n",
       "    </tr>\n",
       "    <tr>\n",
       "      <td>8</td>\n",
       "      <td>INST. A. TOGNINI</td>\n",
       "      <td>SANTA FE AV. 4320</td>\n",
       "      <td>SANTA FE AV.</td>\n",
       "      <td>4320</td>\n",
       "      <td>PALERMO</td>\n",
       "      <td>COMUNA 14</td>\n",
       "      <td>1425</td>\n",
       "      <td>C1425BHS</td>\n",
       "      <td>-34.580446</td>\n",
       "      <td>-58.422940</td>\n",
       "    </tr>\n",
       "    <tr>\n",
       "      <td>9</td>\n",
       "      <td>INST. VOCACIONAL ARGENTINO</td>\n",
       "      <td>CHARCAS 3034</td>\n",
       "      <td>CHARCAS</td>\n",
       "      <td>3034</td>\n",
       "      <td>RECOLETA</td>\n",
       "      <td>COMUNA 2</td>\n",
       "      <td>1425</td>\n",
       "      <td>C1425BML</td>\n",
       "      <td>-34.592961</td>\n",
       "      <td>-58.408877</td>\n",
       "    </tr>\n",
       "  </tbody>\n",
       "</table>\n",
       "</div>"
      ],
      "text/plain": [
       "                         ESTABLECIMIENTOS                         DIRECCION  \\\n",
       "0  UBA FACULTAD DE DERECHO Y CS. SOCIALES  FIGUEROA ALCORTA, PRES. AV. 2263   \n",
       "1          ESCUELA Nº3 DE 1 O. LEGUIZAMON                 SANTA FE AV. 1510   \n",
       "2   ESCUELA Nº23 DE 6 PROV. DE ENTRE RIOS                    BOEDO AV. 1935   \n",
       "3          ESCUELA Nº 20 DE 2 R. PEÑALOZA                     PRINGLES 1165   \n",
       "4             ESCUELA Nº 30 DR. E. GASCON                     SAN BLAS 5387   \n",
       "5         ESCUELA Nº2 REPUBLICA DE PANAMA               SAN MARTIN AV. 6387   \n",
       "6      INSTITUTO SAN MARIA DE LOS ANGELES             PEDRAZA, MANUELA 3950   \n",
       "7           ESCUELA Nº12 DE 9 R. CASTILLA                         CONDE 943   \n",
       "8                        INST. A. TOGNINI                 SANTA FE AV. 4320   \n",
       "9              INST. VOCACIONAL ARGENTINO                      CHARCAS 3034   \n",
       "\n",
       "                         CALLE  ALTURA        BARRIO     COMUNA  \\\n",
       "0  FIGUEROA ALCORTA, PRES. AV.    2263      RECOLETA   COMUNA 2   \n",
       "1                 SANTA FE AV.    1510      RECOLETA   COMUNA 2   \n",
       "2                    BOEDO AV.    1935         BOEDO   COMUNA 5   \n",
       "3                     PRINGLES    1165       ALMAGRO   COMUNA 5   \n",
       "4                     SAN BLAS    5387    VILLA LURO  COMUNA 10   \n",
       "5               SAN MARTIN AV.    6387  VILLA DEVOTO  COMUNA 11   \n",
       "6             PEDRAZA, MANUELA    3950       COGHLAN  COMUNA 12   \n",
       "7                        CONDE     943    COLEGIALES  COMUNA 13   \n",
       "8                 SANTA FE AV.    4320       PALERMO  COMUNA 14   \n",
       "9                      CHARCAS    3034      RECOLETA   COMUNA 2   \n",
       "\n",
       "   CODIGO_POSTAL CODIGO_POSTAL_ARGENTINO        LAT        LNG  \n",
       "0           1425                C1425CKB -34.583289 -58.392373  \n",
       "1           1060                C1060ABO -34.595848 -58.388627  \n",
       "2           1239                C1239AAJ -34.636566 -58.416301  \n",
       "3           1183                C1183AEU -34.598466 -58.426465  \n",
       "4           1407                C1407FUO -34.630591 -58.508890  \n",
       "5           1419                C1419ICA -34.593939 -58.504850  \n",
       "6           1430                C1430AOL -34.559086 -58.479997  \n",
       "7           1426                C1426AYS -34.576539 -58.452345  \n",
       "8           1425                C1425BHS -34.580446 -58.422940  \n",
       "9           1425                C1425BML -34.592961 -58.408877  "
      ]
     },
     "execution_count": 62,
     "metadata": {},
     "output_type": "execute_result"
    }
   ],
   "source": [
    "dataframe"
   ]
  },
  {
   "cell_type": "code",
   "execution_count": 63,
   "metadata": {},
   "outputs": [
    {
     "data": {
      "text/plain": [
       "ESTABLECIMIENTOS           10\n",
       "DIRECCION                  10\n",
       "CALLE                      10\n",
       "ALTURA                     10\n",
       "BARRIO                     10\n",
       "COMUNA                     10\n",
       "CODIGO_POSTAL              10\n",
       "CODIGO_POSTAL_ARGENTINO    10\n",
       "LAT                        10\n",
       "LNG                        10\n",
       "dtype: int64"
      ]
     },
     "execution_count": 63,
     "metadata": {},
     "output_type": "execute_result"
    }
   ],
   "source": [
    "dataframe.count()"
   ]
  },
  {
   "cell_type": "code",
   "execution_count": 64,
   "metadata": {},
   "outputs": [
    {
     "name": "stdout",
     "output_type": "stream",
     "text": [
      "<class 'pandas.core.frame.DataFrame'>\n",
      "RangeIndex: 10 entries, 0 to 9\n",
      "Data columns (total 10 columns):\n",
      "ESTABLECIMIENTOS           10 non-null object\n",
      "DIRECCION                  10 non-null object\n",
      "CALLE                      10 non-null object\n",
      "ALTURA                     10 non-null int64\n",
      "BARRIO                     10 non-null object\n",
      "COMUNA                     10 non-null object\n",
      "CODIGO_POSTAL              10 non-null int64\n",
      "CODIGO_POSTAL_ARGENTINO    10 non-null object\n",
      "LAT                        10 non-null float64\n",
      "LNG                        10 non-null float64\n",
      "dtypes: float64(2), int64(2), object(6)\n",
      "memory usage: 624.0+ bytes\n"
     ]
    }
   ],
   "source": [
    "dataframe.info()"
   ]
  },
  {
   "cell_type": "code",
   "execution_count": 65,
   "metadata": {},
   "outputs": [
    {
     "data": {
      "text/html": [
       "<div>\n",
       "<style scoped>\n",
       "    .dataframe tbody tr th:only-of-type {\n",
       "        vertical-align: middle;\n",
       "    }\n",
       "\n",
       "    .dataframe tbody tr th {\n",
       "        vertical-align: top;\n",
       "    }\n",
       "\n",
       "    .dataframe thead th {\n",
       "        text-align: right;\n",
       "    }\n",
       "</style>\n",
       "<table border=\"1\" class=\"dataframe\">\n",
       "  <thead>\n",
       "    <tr style=\"text-align: right;\">\n",
       "      <th></th>\n",
       "      <th>ESTABLECIMIENTOS</th>\n",
       "      <th>DIRECCION</th>\n",
       "      <th>CALLE</th>\n",
       "      <th>ALTURA</th>\n",
       "      <th>BARRIO</th>\n",
       "      <th>COMUNA</th>\n",
       "      <th>CODIGO_POSTAL</th>\n",
       "      <th>CODIGO_POSTAL_ARGENTINO</th>\n",
       "      <th>LAT</th>\n",
       "      <th>LNG</th>\n",
       "    </tr>\n",
       "  </thead>\n",
       "  <tbody>\n",
       "    <tr>\n",
       "      <td>0</td>\n",
       "      <td>UBA FACULTAD DE DERECHO Y CS. SOCIALES</td>\n",
       "      <td>FIGUEROA ALCORTA, PRES. AV. 2263</td>\n",
       "      <td>FIGUEROA ALCORTA, PRES. AV.</td>\n",
       "      <td>2263</td>\n",
       "      <td>RECOLETA</td>\n",
       "      <td>COMUNA 2</td>\n",
       "      <td>1425</td>\n",
       "      <td>C1425CKB</td>\n",
       "      <td>-34.583289</td>\n",
       "      <td>-58.392373</td>\n",
       "    </tr>\n",
       "    <tr>\n",
       "      <td>1</td>\n",
       "      <td>ESCUELA Nº3 DE 1 O. LEGUIZAMON</td>\n",
       "      <td>SANTA FE AV. 1510</td>\n",
       "      <td>SANTA FE AV.</td>\n",
       "      <td>1510</td>\n",
       "      <td>RECOLETA</td>\n",
       "      <td>COMUNA 2</td>\n",
       "      <td>1060</td>\n",
       "      <td>C1060ABO</td>\n",
       "      <td>-34.595848</td>\n",
       "      <td>-58.388627</td>\n",
       "    </tr>\n",
       "    <tr>\n",
       "      <td>2</td>\n",
       "      <td>ESCUELA Nº23 DE 6 PROV. DE ENTRE RIOS</td>\n",
       "      <td>BOEDO AV. 1935</td>\n",
       "      <td>BOEDO AV.</td>\n",
       "      <td>1935</td>\n",
       "      <td>BOEDO</td>\n",
       "      <td>COMUNA 5</td>\n",
       "      <td>1239</td>\n",
       "      <td>C1239AAJ</td>\n",
       "      <td>-34.636566</td>\n",
       "      <td>-58.416301</td>\n",
       "    </tr>\n",
       "    <tr>\n",
       "      <td>3</td>\n",
       "      <td>ESCUELA Nº 20 DE 2 R. PEÑALOZA</td>\n",
       "      <td>PRINGLES 1165</td>\n",
       "      <td>PRINGLES</td>\n",
       "      <td>1165</td>\n",
       "      <td>ALMAGRO</td>\n",
       "      <td>COMUNA 5</td>\n",
       "      <td>1183</td>\n",
       "      <td>C1183AEU</td>\n",
       "      <td>-34.598466</td>\n",
       "      <td>-58.426465</td>\n",
       "    </tr>\n",
       "    <tr>\n",
       "      <td>4</td>\n",
       "      <td>ESCUELA Nº 30 DR. E. GASCON</td>\n",
       "      <td>SAN BLAS 5387</td>\n",
       "      <td>SAN BLAS</td>\n",
       "      <td>5387</td>\n",
       "      <td>VILLA LURO</td>\n",
       "      <td>COMUNA 10</td>\n",
       "      <td>1407</td>\n",
       "      <td>C1407FUO</td>\n",
       "      <td>-34.630591</td>\n",
       "      <td>-58.508890</td>\n",
       "    </tr>\n",
       "  </tbody>\n",
       "</table>\n",
       "</div>"
      ],
      "text/plain": [
       "                         ESTABLECIMIENTOS                         DIRECCION  \\\n",
       "0  UBA FACULTAD DE DERECHO Y CS. SOCIALES  FIGUEROA ALCORTA, PRES. AV. 2263   \n",
       "1          ESCUELA Nº3 DE 1 O. LEGUIZAMON                 SANTA FE AV. 1510   \n",
       "2   ESCUELA Nº23 DE 6 PROV. DE ENTRE RIOS                    BOEDO AV. 1935   \n",
       "3          ESCUELA Nº 20 DE 2 R. PEÑALOZA                     PRINGLES 1165   \n",
       "4             ESCUELA Nº 30 DR. E. GASCON                     SAN BLAS 5387   \n",
       "\n",
       "                         CALLE  ALTURA      BARRIO     COMUNA  CODIGO_POSTAL  \\\n",
       "0  FIGUEROA ALCORTA, PRES. AV.    2263    RECOLETA   COMUNA 2           1425   \n",
       "1                 SANTA FE AV.    1510    RECOLETA   COMUNA 2           1060   \n",
       "2                    BOEDO AV.    1935       BOEDO   COMUNA 5           1239   \n",
       "3                     PRINGLES    1165     ALMAGRO   COMUNA 5           1183   \n",
       "4                     SAN BLAS    5387  VILLA LURO  COMUNA 10           1407   \n",
       "\n",
       "  CODIGO_POSTAL_ARGENTINO        LAT        LNG  \n",
       "0                C1425CKB -34.583289 -58.392373  \n",
       "1                C1060ABO -34.595848 -58.388627  \n",
       "2                C1239AAJ -34.636566 -58.416301  \n",
       "3                C1183AEU -34.598466 -58.426465  \n",
       "4                C1407FUO -34.630591 -58.508890  "
      ]
     },
     "execution_count": 65,
     "metadata": {},
     "output_type": "execute_result"
    }
   ],
   "source": [
    "dataframe.head(5)"
   ]
  },
  {
   "cell_type": "code",
   "execution_count": 66,
   "metadata": {},
   "outputs": [
    {
     "data": {
      "text/html": [
       "<div>\n",
       "<style scoped>\n",
       "    .dataframe tbody tr th:only-of-type {\n",
       "        vertical-align: middle;\n",
       "    }\n",
       "\n",
       "    .dataframe tbody tr th {\n",
       "        vertical-align: top;\n",
       "    }\n",
       "\n",
       "    .dataframe thead th {\n",
       "        text-align: right;\n",
       "    }\n",
       "</style>\n",
       "<table border=\"1\" class=\"dataframe\">\n",
       "  <thead>\n",
       "    <tr style=\"text-align: right;\">\n",
       "      <th></th>\n",
       "      <th>ESTABLECIMIENTOS</th>\n",
       "      <th>DIRECCION</th>\n",
       "      <th>CALLE</th>\n",
       "      <th>ALTURA</th>\n",
       "      <th>BARRIO</th>\n",
       "      <th>COMUNA</th>\n",
       "      <th>CODIGO_POSTAL</th>\n",
       "      <th>CODIGO_POSTAL_ARGENTINO</th>\n",
       "      <th>LAT</th>\n",
       "      <th>LNG</th>\n",
       "    </tr>\n",
       "  </thead>\n",
       "  <tbody>\n",
       "    <tr>\n",
       "      <td>5</td>\n",
       "      <td>ESCUELA Nº2 REPUBLICA DE PANAMA</td>\n",
       "      <td>SAN MARTIN AV. 6387</td>\n",
       "      <td>SAN MARTIN AV.</td>\n",
       "      <td>6387</td>\n",
       "      <td>VILLA DEVOTO</td>\n",
       "      <td>COMUNA 11</td>\n",
       "      <td>1419</td>\n",
       "      <td>C1419ICA</td>\n",
       "      <td>-34.593939</td>\n",
       "      <td>-58.504850</td>\n",
       "    </tr>\n",
       "    <tr>\n",
       "      <td>6</td>\n",
       "      <td>INSTITUTO SAN MARIA DE LOS ANGELES</td>\n",
       "      <td>PEDRAZA, MANUELA 3950</td>\n",
       "      <td>PEDRAZA, MANUELA</td>\n",
       "      <td>3950</td>\n",
       "      <td>COGHLAN</td>\n",
       "      <td>COMUNA 12</td>\n",
       "      <td>1430</td>\n",
       "      <td>C1430AOL</td>\n",
       "      <td>-34.559086</td>\n",
       "      <td>-58.479997</td>\n",
       "    </tr>\n",
       "    <tr>\n",
       "      <td>7</td>\n",
       "      <td>ESCUELA Nº12 DE 9 R. CASTILLA</td>\n",
       "      <td>CONDE 943</td>\n",
       "      <td>CONDE</td>\n",
       "      <td>943</td>\n",
       "      <td>COLEGIALES</td>\n",
       "      <td>COMUNA 13</td>\n",
       "      <td>1426</td>\n",
       "      <td>C1426AYS</td>\n",
       "      <td>-34.576539</td>\n",
       "      <td>-58.452345</td>\n",
       "    </tr>\n",
       "    <tr>\n",
       "      <td>8</td>\n",
       "      <td>INST. A. TOGNINI</td>\n",
       "      <td>SANTA FE AV. 4320</td>\n",
       "      <td>SANTA FE AV.</td>\n",
       "      <td>4320</td>\n",
       "      <td>PALERMO</td>\n",
       "      <td>COMUNA 14</td>\n",
       "      <td>1425</td>\n",
       "      <td>C1425BHS</td>\n",
       "      <td>-34.580446</td>\n",
       "      <td>-58.422940</td>\n",
       "    </tr>\n",
       "    <tr>\n",
       "      <td>9</td>\n",
       "      <td>INST. VOCACIONAL ARGENTINO</td>\n",
       "      <td>CHARCAS 3034</td>\n",
       "      <td>CHARCAS</td>\n",
       "      <td>3034</td>\n",
       "      <td>RECOLETA</td>\n",
       "      <td>COMUNA 2</td>\n",
       "      <td>1425</td>\n",
       "      <td>C1425BML</td>\n",
       "      <td>-34.592961</td>\n",
       "      <td>-58.408877</td>\n",
       "    </tr>\n",
       "  </tbody>\n",
       "</table>\n",
       "</div>"
      ],
      "text/plain": [
       "                     ESTABLECIMIENTOS              DIRECCION  \\\n",
       "5     ESCUELA Nº2 REPUBLICA DE PANAMA    SAN MARTIN AV. 6387   \n",
       "6  INSTITUTO SAN MARIA DE LOS ANGELES  PEDRAZA, MANUELA 3950   \n",
       "7       ESCUELA Nº12 DE 9 R. CASTILLA              CONDE 943   \n",
       "8                    INST. A. TOGNINI      SANTA FE AV. 4320   \n",
       "9          INST. VOCACIONAL ARGENTINO           CHARCAS 3034   \n",
       "\n",
       "              CALLE  ALTURA        BARRIO     COMUNA  CODIGO_POSTAL  \\\n",
       "5    SAN MARTIN AV.    6387  VILLA DEVOTO  COMUNA 11           1419   \n",
       "6  PEDRAZA, MANUELA    3950       COGHLAN  COMUNA 12           1430   \n",
       "7             CONDE     943    COLEGIALES  COMUNA 13           1426   \n",
       "8      SANTA FE AV.    4320       PALERMO  COMUNA 14           1425   \n",
       "9           CHARCAS    3034      RECOLETA   COMUNA 2           1425   \n",
       "\n",
       "  CODIGO_POSTAL_ARGENTINO        LAT        LNG  \n",
       "5                C1419ICA -34.593939 -58.504850  \n",
       "6                C1430AOL -34.559086 -58.479997  \n",
       "7                C1426AYS -34.576539 -58.452345  \n",
       "8                C1425BHS -34.580446 -58.422940  \n",
       "9                C1425BML -34.592961 -58.408877  "
      ]
     },
     "execution_count": 66,
     "metadata": {},
     "output_type": "execute_result"
    }
   ],
   "source": [
    "dataframe.tail(5)"
   ]
  },
  {
   "cell_type": "code",
   "execution_count": 67,
   "metadata": {},
   "outputs": [
    {
     "data": {
      "text/html": [
       "<div>\n",
       "<style scoped>\n",
       "    .dataframe tbody tr th:only-of-type {\n",
       "        vertical-align: middle;\n",
       "    }\n",
       "\n",
       "    .dataframe tbody tr th {\n",
       "        vertical-align: top;\n",
       "    }\n",
       "\n",
       "    .dataframe thead th {\n",
       "        text-align: right;\n",
       "    }\n",
       "</style>\n",
       "<table border=\"1\" class=\"dataframe\">\n",
       "  <thead>\n",
       "    <tr style=\"text-align: right;\">\n",
       "      <th></th>\n",
       "      <th>ALTURA</th>\n",
       "      <th>CODIGO_POSTAL</th>\n",
       "      <th>LAT</th>\n",
       "      <th>LNG</th>\n",
       "    </tr>\n",
       "  </thead>\n",
       "  <tbody>\n",
       "    <tr>\n",
       "      <td>count</td>\n",
       "      <td>10.000000</td>\n",
       "      <td>10.000000</td>\n",
       "      <td>10.000000</td>\n",
       "      <td>10.000000</td>\n",
       "    </tr>\n",
       "    <tr>\n",
       "      <td>mean</td>\n",
       "      <td>3089.400000</td>\n",
       "      <td>1343.900000</td>\n",
       "      <td>-34.594773</td>\n",
       "      <td>-58.440166</td>\n",
       "    </tr>\n",
       "    <tr>\n",
       "      <td>std</td>\n",
       "      <td>1862.842464</td>\n",
       "      <td>133.748894</td>\n",
       "      <td>0.023550</td>\n",
       "      <td>0.044241</td>\n",
       "    </tr>\n",
       "    <tr>\n",
       "      <td>min</td>\n",
       "      <td>943.000000</td>\n",
       "      <td>1060.000000</td>\n",
       "      <td>-34.636566</td>\n",
       "      <td>-58.508890</td>\n",
       "    </tr>\n",
       "    <tr>\n",
       "      <td>25%</td>\n",
       "      <td>1616.250000</td>\n",
       "      <td>1281.000000</td>\n",
       "      <td>-34.597811</td>\n",
       "      <td>-58.473084</td>\n",
       "    </tr>\n",
       "    <tr>\n",
       "      <td>50%</td>\n",
       "      <td>2648.500000</td>\n",
       "      <td>1422.000000</td>\n",
       "      <td>-34.593450</td>\n",
       "      <td>-58.424702</td>\n",
       "    </tr>\n",
       "    <tr>\n",
       "      <td>75%</td>\n",
       "      <td>4227.500000</td>\n",
       "      <td>1425.000000</td>\n",
       "      <td>-34.581157</td>\n",
       "      <td>-58.410733</td>\n",
       "    </tr>\n",
       "    <tr>\n",
       "      <td>max</td>\n",
       "      <td>6387.000000</td>\n",
       "      <td>1430.000000</td>\n",
       "      <td>-34.559086</td>\n",
       "      <td>-58.388627</td>\n",
       "    </tr>\n",
       "  </tbody>\n",
       "</table>\n",
       "</div>"
      ],
      "text/plain": [
       "            ALTURA  CODIGO_POSTAL        LAT        LNG\n",
       "count    10.000000      10.000000  10.000000  10.000000\n",
       "mean   3089.400000    1343.900000 -34.594773 -58.440166\n",
       "std    1862.842464     133.748894   0.023550   0.044241\n",
       "min     943.000000    1060.000000 -34.636566 -58.508890\n",
       "25%    1616.250000    1281.000000 -34.597811 -58.473084\n",
       "50%    2648.500000    1422.000000 -34.593450 -58.424702\n",
       "75%    4227.500000    1425.000000 -34.581157 -58.410733\n",
       "max    6387.000000    1430.000000 -34.559086 -58.388627"
      ]
     },
     "execution_count": 67,
     "metadata": {},
     "output_type": "execute_result"
    }
   ],
   "source": [
    "dataframe.describe()"
   ]
  },
  {
   "cell_type": "code",
   "execution_count": 68,
   "metadata": {},
   "outputs": [
    {
     "data": {
      "text/html": [
       "<div>\n",
       "<style scoped>\n",
       "    .dataframe tbody tr th:only-of-type {\n",
       "        vertical-align: middle;\n",
       "    }\n",
       "\n",
       "    .dataframe tbody tr th {\n",
       "        vertical-align: top;\n",
       "    }\n",
       "\n",
       "    .dataframe thead th {\n",
       "        text-align: right;\n",
       "    }\n",
       "</style>\n",
       "<table border=\"1\" class=\"dataframe\">\n",
       "  <thead>\n",
       "    <tr style=\"text-align: right;\">\n",
       "      <th></th>\n",
       "      <th>ESTABLECIMIENTOS</th>\n",
       "      <th>DIRECCION</th>\n",
       "      <th>CALLE</th>\n",
       "      <th>ALTURA</th>\n",
       "      <th>BARRIO</th>\n",
       "      <th>COMUNA</th>\n",
       "      <th>CODIGO_POSTAL</th>\n",
       "      <th>CODIGO_POSTAL_ARGENTINO</th>\n",
       "      <th>LAT</th>\n",
       "      <th>LNG</th>\n",
       "    </tr>\n",
       "  </thead>\n",
       "  <tbody>\n",
       "    <tr>\n",
       "      <td>5</td>\n",
       "      <td>ESCUELA Nº2 REPUBLICA DE PANAMA</td>\n",
       "      <td>SAN MARTIN AV. 6387</td>\n",
       "      <td>SAN MARTIN AV.</td>\n",
       "      <td>6387</td>\n",
       "      <td>VILLA DEVOTO</td>\n",
       "      <td>COMUNA 11</td>\n",
       "      <td>1419</td>\n",
       "      <td>C1419ICA</td>\n",
       "      <td>-34.593939</td>\n",
       "      <td>-58.504850</td>\n",
       "    </tr>\n",
       "    <tr>\n",
       "      <td>2</td>\n",
       "      <td>ESCUELA Nº23 DE 6 PROV. DE ENTRE RIOS</td>\n",
       "      <td>BOEDO AV. 1935</td>\n",
       "      <td>BOEDO AV.</td>\n",
       "      <td>1935</td>\n",
       "      <td>BOEDO</td>\n",
       "      <td>COMUNA 5</td>\n",
       "      <td>1239</td>\n",
       "      <td>C1239AAJ</td>\n",
       "      <td>-34.636566</td>\n",
       "      <td>-58.416301</td>\n",
       "    </tr>\n",
       "    <tr>\n",
       "      <td>1</td>\n",
       "      <td>ESCUELA Nº3 DE 1 O. LEGUIZAMON</td>\n",
       "      <td>SANTA FE AV. 1510</td>\n",
       "      <td>SANTA FE AV.</td>\n",
       "      <td>1510</td>\n",
       "      <td>RECOLETA</td>\n",
       "      <td>COMUNA 2</td>\n",
       "      <td>1060</td>\n",
       "      <td>C1060ABO</td>\n",
       "      <td>-34.595848</td>\n",
       "      <td>-58.388627</td>\n",
       "    </tr>\n",
       "  </tbody>\n",
       "</table>\n",
       "</div>"
      ],
      "text/plain": [
       "                        ESTABLECIMIENTOS            DIRECCION           CALLE  \\\n",
       "5        ESCUELA Nº2 REPUBLICA DE PANAMA  SAN MARTIN AV. 6387  SAN MARTIN AV.   \n",
       "2  ESCUELA Nº23 DE 6 PROV. DE ENTRE RIOS       BOEDO AV. 1935       BOEDO AV.   \n",
       "1         ESCUELA Nº3 DE 1 O. LEGUIZAMON    SANTA FE AV. 1510    SANTA FE AV.   \n",
       "\n",
       "   ALTURA        BARRIO     COMUNA  CODIGO_POSTAL CODIGO_POSTAL_ARGENTINO  \\\n",
       "5    6387  VILLA DEVOTO  COMUNA 11           1419                C1419ICA   \n",
       "2    1935         BOEDO   COMUNA 5           1239                C1239AAJ   \n",
       "1    1510      RECOLETA   COMUNA 2           1060                C1060ABO   \n",
       "\n",
       "         LAT        LNG  \n",
       "5 -34.593939 -58.504850  \n",
       "2 -34.636566 -58.416301  \n",
       "1 -34.595848 -58.388627  "
      ]
     },
     "execution_count": 68,
     "metadata": {},
     "output_type": "execute_result"
    }
   ],
   "source": [
    "dataframe.sample(3)"
   ]
  },
  {
   "cell_type": "code",
   "execution_count": 69,
   "metadata": {},
   "outputs": [],
   "source": [
    "Nimpares = [ x for x in range(-500,40) if x%2==0]"
   ]
  },
  {
   "cell_type": "code",
   "execution_count": 70,
   "metadata": {},
   "outputs": [
    {
     "data": {
      "text/plain": [
       "[-500,\n",
       " -498,\n",
       " -496,\n",
       " -494,\n",
       " -492,\n",
       " -490,\n",
       " -488,\n",
       " -486,\n",
       " -484,\n",
       " -482,\n",
       " -480,\n",
       " -478,\n",
       " -476,\n",
       " -474,\n",
       " -472,\n",
       " -470,\n",
       " -468,\n",
       " -466,\n",
       " -464,\n",
       " -462,\n",
       " -460,\n",
       " -458,\n",
       " -456,\n",
       " -454,\n",
       " -452,\n",
       " -450,\n",
       " -448,\n",
       " -446,\n",
       " -444,\n",
       " -442,\n",
       " -440,\n",
       " -438,\n",
       " -436,\n",
       " -434,\n",
       " -432,\n",
       " -430,\n",
       " -428,\n",
       " -426,\n",
       " -424,\n",
       " -422,\n",
       " -420,\n",
       " -418,\n",
       " -416,\n",
       " -414,\n",
       " -412,\n",
       " -410,\n",
       " -408,\n",
       " -406,\n",
       " -404,\n",
       " -402,\n",
       " -400,\n",
       " -398,\n",
       " -396,\n",
       " -394,\n",
       " -392,\n",
       " -390,\n",
       " -388,\n",
       " -386,\n",
       " -384,\n",
       " -382,\n",
       " -380,\n",
       " -378,\n",
       " -376,\n",
       " -374,\n",
       " -372,\n",
       " -370,\n",
       " -368,\n",
       " -366,\n",
       " -364,\n",
       " -362,\n",
       " -360,\n",
       " -358,\n",
       " -356,\n",
       " -354,\n",
       " -352,\n",
       " -350,\n",
       " -348,\n",
       " -346,\n",
       " -344,\n",
       " -342,\n",
       " -340,\n",
       " -338,\n",
       " -336,\n",
       " -334,\n",
       " -332,\n",
       " -330,\n",
       " -328,\n",
       " -326,\n",
       " -324,\n",
       " -322,\n",
       " -320,\n",
       " -318,\n",
       " -316,\n",
       " -314,\n",
       " -312,\n",
       " -310,\n",
       " -308,\n",
       " -306,\n",
       " -304,\n",
       " -302,\n",
       " -300,\n",
       " -298,\n",
       " -296,\n",
       " -294,\n",
       " -292,\n",
       " -290,\n",
       " -288,\n",
       " -286,\n",
       " -284,\n",
       " -282,\n",
       " -280,\n",
       " -278,\n",
       " -276,\n",
       " -274,\n",
       " -272,\n",
       " -270,\n",
       " -268,\n",
       " -266,\n",
       " -264,\n",
       " -262,\n",
       " -260,\n",
       " -258,\n",
       " -256,\n",
       " -254,\n",
       " -252,\n",
       " -250,\n",
       " -248,\n",
       " -246,\n",
       " -244,\n",
       " -242,\n",
       " -240,\n",
       " -238,\n",
       " -236,\n",
       " -234,\n",
       " -232,\n",
       " -230,\n",
       " -228,\n",
       " -226,\n",
       " -224,\n",
       " -222,\n",
       " -220,\n",
       " -218,\n",
       " -216,\n",
       " -214,\n",
       " -212,\n",
       " -210,\n",
       " -208,\n",
       " -206,\n",
       " -204,\n",
       " -202,\n",
       " -200,\n",
       " -198,\n",
       " -196,\n",
       " -194,\n",
       " -192,\n",
       " -190,\n",
       " -188,\n",
       " -186,\n",
       " -184,\n",
       " -182,\n",
       " -180,\n",
       " -178,\n",
       " -176,\n",
       " -174,\n",
       " -172,\n",
       " -170,\n",
       " -168,\n",
       " -166,\n",
       " -164,\n",
       " -162,\n",
       " -160,\n",
       " -158,\n",
       " -156,\n",
       " -154,\n",
       " -152,\n",
       " -150,\n",
       " -148,\n",
       " -146,\n",
       " -144,\n",
       " -142,\n",
       " -140,\n",
       " -138,\n",
       " -136,\n",
       " -134,\n",
       " -132,\n",
       " -130,\n",
       " -128,\n",
       " -126,\n",
       " -124,\n",
       " -122,\n",
       " -120,\n",
       " -118,\n",
       " -116,\n",
       " -114,\n",
       " -112,\n",
       " -110,\n",
       " -108,\n",
       " -106,\n",
       " -104,\n",
       " -102,\n",
       " -100,\n",
       " -98,\n",
       " -96,\n",
       " -94,\n",
       " -92,\n",
       " -90,\n",
       " -88,\n",
       " -86,\n",
       " -84,\n",
       " -82,\n",
       " -80,\n",
       " -78,\n",
       " -76,\n",
       " -74,\n",
       " -72,\n",
       " -70,\n",
       " -68,\n",
       " -66,\n",
       " -64,\n",
       " -62,\n",
       " -60,\n",
       " -58,\n",
       " -56,\n",
       " -54,\n",
       " -52,\n",
       " -50,\n",
       " -48,\n",
       " -46,\n",
       " -44,\n",
       " -42,\n",
       " -40,\n",
       " -38,\n",
       " -36,\n",
       " -34,\n",
       " -32,\n",
       " -30,\n",
       " -28,\n",
       " -26,\n",
       " -24,\n",
       " -22,\n",
       " -20,\n",
       " -18,\n",
       " -16,\n",
       " -14,\n",
       " -12,\n",
       " -10,\n",
       " -8,\n",
       " -6,\n",
       " -4,\n",
       " -2,\n",
       " 0,\n",
       " 2,\n",
       " 4,\n",
       " 6,\n",
       " 8,\n",
       " 10,\n",
       " 12,\n",
       " 14,\n",
       " 16,\n",
       " 18,\n",
       " 20,\n",
       " 22,\n",
       " 24,\n",
       " 26,\n",
       " 28,\n",
       " 30,\n",
       " 32,\n",
       " 34,\n",
       " 36,\n",
       " 38]"
      ]
     },
     "execution_count": 70,
     "metadata": {},
     "output_type": "execute_result"
    }
   ],
   "source": [
    "Nimpares"
   ]
  },
  {
   "cell_type": "code",
   "execution_count": null,
   "metadata": {},
   "outputs": [],
   "source": []
  }
 ],
 "metadata": {
  "kernelspec": {
   "display_name": "Python 3",
   "language": "python",
   "name": "python3"
  },
  "language_info": {
   "codemirror_mode": {
    "name": "ipython",
    "version": 3
   },
   "file_extension": ".py",
   "mimetype": "text/x-python",
   "name": "python",
   "nbconvert_exporter": "python",
   "pygments_lexer": "ipython3",
   "version": "3.7.4"
  }
 },
 "nbformat": 4,
 "nbformat_minor": 2
}
