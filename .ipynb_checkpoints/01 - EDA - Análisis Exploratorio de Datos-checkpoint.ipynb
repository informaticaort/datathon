{
 "cells": [
  {
   "cell_type": "markdown",
   "metadata": {},
   "source": [
    "# Análisis exploratorio de datos\n",
    "El análisis exploratorio de datos se conoce como EDA (exploratory data analysis).\n",
    "\n",
    "\n",
    "## Objetivos\n",
    "1. Presentar las principales librerías de Python para análisis exploratorio de datos y recursos visuales.\n",
    "2. Introducir y familiarizarse con la lectura y la exploración de datasets, permitiendo identificar límites y potencial de los datos así como su adecuación para el análisis.\n",
    "\n",
    "## Datasets\n",
    "Datos abiertos del GCBA. Ministerio de Salud. Instituto de Trasplantes de la Ciudad de Buenos Aires. Los descargamos de [aquí]('https://data.buenosaires.gob.ar/dataset/manifestaciones-a-la-donacion-para-trasplantes').\n",
    "\n",
    "**Manifestaciones a la donación para trasplantes**\n",
    "Información correspondiente a la Campaña de Promoción “Hoy también elegís ser donante de órganos” organizada por el Instituto de Trasplante de la Ciudad de Buenos Aires en el marco de la jornada electoral **PASO 2017** dando cumplimiento a la Ley 2508/07. Se realizó en 62 establecimientos autorizados por la Justicia Electoral de la Ciudad de Buenos Aires.\n",
    "\n",
    "1. *Manifestaciones a la donación para trasplantes*: personas que decidieron sobre la donación de órganos y tejidos en la CABA durante las Elecciones PASO 2017.\n",
    "\n",
    "2. *Establecimentos - Elecciones 2017*: ubicación de los establecimientos autorizados para las Elecciones Legislativas de Octubre 2017."
   ]
  },
  {
   "cell_type": "markdown",
   "metadata": {},
   "source": [
    "Para manejar y obtener información de los datasets, necesitaremos importar algunas librerías, que se agregan a la ya mencionada Pandas. Son: __Numpy, Scipy y Seaborn__. La referencia a las mismas podés encontrarla en el README del repositorio"
   ]
  },
  {
   "cell_type": "code",
   "execution_count": 6,
   "metadata": {},
   "outputs": [],
   "source": [
    "#importamos las librerias con las que trabajaremos\n",
    "import numpy as np\n",
    "from scipy import stats\n",
    "\n",
    "import pandas as pd\n",
    "import seaborn as sns"
   ]
  },
  {
   "cell_type": "markdown",
   "metadata": {},
   "source": [
    "### Personas que se expresaron frente a la donación de órganos\n"
   ]
  },
  {
   "cell_type": "code",
   "execution_count": 11,
   "metadata": {},
   "outputs": [],
   "source": [
    "# este bloque es exclusivo para trabajar en COLAB! Quitá el comentario de las dos lineas de abajo para que se ejecuten!\n",
    "# se habilita un botón que tenés que pulsar para seleccionar tu archivo de un directorio local\n",
    "\n",
    "#from google.colab import files\n",
    "#files.upload()"
   ]
  },
  {
   "cell_type": "markdown",
   "metadata": {},
   "source": [
    "Pandas contiene un método llamado `read_csv()`, que enviando como string una dirección de un archivo csv, levanta automáticamente todos los datos de ese archivo en un Dataframe"
   ]
  },
  {
   "cell_type": "code",
   "execution_count": 12,
   "metadata": {},
   "outputs": [
    {
     "data": {
      "text/html": [
       "<div>\n",
       "<style scoped>\n",
       "    .dataframe tbody tr th:only-of-type {\n",
       "        vertical-align: middle;\n",
       "    }\n",
       "\n",
       "    .dataframe tbody tr th {\n",
       "        vertical-align: top;\n",
       "    }\n",
       "\n",
       "    .dataframe thead th {\n",
       "        text-align: right;\n",
       "    }\n",
       "</style>\n",
       "<table border=\"1\" class=\"dataframe\">\n",
       "  <thead>\n",
       "    <tr style=\"text-align: right;\">\n",
       "      <th></th>\n",
       "      <th>NACIONALIDAD</th>\n",
       "      <th>SEXO</th>\n",
       "      <th>EDAD</th>\n",
       "      <th>CONSENTIMIENTO</th>\n",
       "      <th>CUALQUIER_ORGANO</th>\n",
       "      <th>CUALES_NO</th>\n",
       "      <th>TRASPLANTE</th>\n",
       "      <th>INVESTIGACION</th>\n",
       "      <th>COMUNA</th>\n",
       "    </tr>\n",
       "  </thead>\n",
       "  <tbody>\n",
       "    <tr>\n",
       "      <th>0</th>\n",
       "      <td>ARGENTINA</td>\n",
       "      <td>F</td>\n",
       "      <td>40</td>\n",
       "      <td>SI</td>\n",
       "      <td>SI</td>\n",
       "      <td>NaN</td>\n",
       "      <td>SI</td>\n",
       "      <td>SI</td>\n",
       "      <td>2</td>\n",
       "    </tr>\n",
       "    <tr>\n",
       "      <th>1</th>\n",
       "      <td>ARGENTINA</td>\n",
       "      <td>M</td>\n",
       "      <td>31</td>\n",
       "      <td>SI</td>\n",
       "      <td>SI</td>\n",
       "      <td>NaN</td>\n",
       "      <td>SI</td>\n",
       "      <td>NO</td>\n",
       "      <td>2</td>\n",
       "    </tr>\n",
       "    <tr>\n",
       "      <th>2</th>\n",
       "      <td>ARGENTINA</td>\n",
       "      <td>F</td>\n",
       "      <td>41</td>\n",
       "      <td>SI</td>\n",
       "      <td>SI</td>\n",
       "      <td>NaN</td>\n",
       "      <td>SI</td>\n",
       "      <td>SI</td>\n",
       "      <td>2</td>\n",
       "    </tr>\n",
       "    <tr>\n",
       "      <th>3</th>\n",
       "      <td>ARGENTINA</td>\n",
       "      <td>M</td>\n",
       "      <td>29</td>\n",
       "      <td>SI</td>\n",
       "      <td>SI</td>\n",
       "      <td>NaN</td>\n",
       "      <td>SI</td>\n",
       "      <td>NO</td>\n",
       "      <td>2</td>\n",
       "    </tr>\n",
       "    <tr>\n",
       "      <th>4</th>\n",
       "      <td>ARGENTINA</td>\n",
       "      <td>F</td>\n",
       "      <td>26</td>\n",
       "      <td>SI</td>\n",
       "      <td>SI</td>\n",
       "      <td>NaN</td>\n",
       "      <td>SI</td>\n",
       "      <td>NO</td>\n",
       "      <td>2</td>\n",
       "    </tr>\n",
       "  </tbody>\n",
       "</table>\n",
       "</div>"
      ],
      "text/plain": [
       "  NACIONALIDAD SEXO  EDAD CONSENTIMIENTO CUALQUIER_ORGANO CUALES_NO  \\\n",
       "0    ARGENTINA    F    40             SI               SI       NaN   \n",
       "1    ARGENTINA    M    31             SI               SI       NaN   \n",
       "2    ARGENTINA    F    41             SI               SI       NaN   \n",
       "3    ARGENTINA    M    29             SI               SI       NaN   \n",
       "4    ARGENTINA    F    26             SI               SI       NaN   \n",
       "\n",
       "  TRASPLANTE INVESTIGACION  COMUNA  \n",
       "0         SI            SI       2  \n",
       "1         SI            NO       2  \n",
       "2         SI            SI       2  \n",
       "3         SI            NO       2  \n",
       "4         SI            NO       2  "
      ]
     },
     "execution_count": 12,
     "metadata": {},
     "output_type": "execute_result"
    }
   ],
   "source": [
    "# cargamos el dataset, instanciándolo para poder referenciarlo luego\n",
    "data = pd.read_csv('datasets/manifestaciones-a-la-donacion-para-trasplantes.csv', sep=';')\n",
    "\n",
    "# visualizamos que se haya cargado bien\n",
    "data.head()"
   ]
  },
  {
   "cell_type": "code",
   "execution_count": 13,
   "metadata": {},
   "outputs": [
    {
     "name": "stdout",
     "output_type": "stream",
     "text": [
      "<class 'pandas.core.frame.DataFrame'>\n",
      "RangeIndex: 1502 entries, 0 to 1501\n",
      "Data columns (total 9 columns):\n",
      "NACIONALIDAD        1502 non-null object\n",
      "SEXO                1502 non-null object\n",
      "EDAD                1502 non-null int64\n",
      "CONSENTIMIENTO      1502 non-null object\n",
      "CUALQUIER_ORGANO    1502 non-null object\n",
      "CUALES_NO           14 non-null object\n",
      "TRASPLANTE          1502 non-null object\n",
      "INVESTIGACION       1502 non-null object\n",
      "COMUNA              1502 non-null int64\n",
      "dtypes: int64(2), object(7)\n",
      "memory usage: 64.6+ KB\n"
     ]
    }
   ],
   "source": [
    "# chequamos dimensiones, estructura, contenido\n",
    "data.info()"
   ]
  },
  {
   "cell_type": "markdown",
   "metadata": {},
   "source": [
    "Según `.info()`:\n",
    "* ¿Cómo identificarías si hay datos vacíos?\n",
    "* ¿Podés decir que el dataset está bien organizado? ¿Por qué?\n",
    "* ¿Eliminarías alguna fila o alguna columna?\n",
    "* ¿Transformarías algún dato? \n",
    "* ¿Ya podrías analizarlo?\n",
    "* Observando el dataset (su estructura, el nombre de las columnas, características de las respuestas, etc.), ¿cómo lo caracterizarías? ¿qué tipo de preguntas podrías responder?"
   ]
  },
  {
   "cell_type": "code",
   "execution_count": 14,
   "metadata": {},
   "outputs": [
    {
     "data": {
      "text/html": [
       "<div>\n",
       "<style scoped>\n",
       "    .dataframe tbody tr th:only-of-type {\n",
       "        vertical-align: middle;\n",
       "    }\n",
       "\n",
       "    .dataframe tbody tr th {\n",
       "        vertical-align: top;\n",
       "    }\n",
       "\n",
       "    .dataframe thead th {\n",
       "        text-align: right;\n",
       "    }\n",
       "</style>\n",
       "<table border=\"1\" class=\"dataframe\">\n",
       "  <thead>\n",
       "    <tr style=\"text-align: right;\">\n",
       "      <th></th>\n",
       "      <th>EDAD</th>\n",
       "      <th>COMUNA</th>\n",
       "    </tr>\n",
       "  </thead>\n",
       "  <tbody>\n",
       "    <tr>\n",
       "      <th>count</th>\n",
       "      <td>1502.000000</td>\n",
       "      <td>1502.000000</td>\n",
       "    </tr>\n",
       "    <tr>\n",
       "      <th>mean</th>\n",
       "      <td>42.914780</td>\n",
       "      <td>8.032623</td>\n",
       "    </tr>\n",
       "    <tr>\n",
       "      <th>std</th>\n",
       "      <td>15.259494</td>\n",
       "      <td>4.407416</td>\n",
       "    </tr>\n",
       "    <tr>\n",
       "      <th>min</th>\n",
       "      <td>18.000000</td>\n",
       "      <td>1.000000</td>\n",
       "    </tr>\n",
       "    <tr>\n",
       "      <th>25%</th>\n",
       "      <td>30.000000</td>\n",
       "      <td>4.000000</td>\n",
       "    </tr>\n",
       "    <tr>\n",
       "      <th>50%</th>\n",
       "      <td>41.000000</td>\n",
       "      <td>8.000000</td>\n",
       "    </tr>\n",
       "    <tr>\n",
       "      <th>75%</th>\n",
       "      <td>54.000000</td>\n",
       "      <td>12.000000</td>\n",
       "    </tr>\n",
       "    <tr>\n",
       "      <th>max</th>\n",
       "      <td>99.000000</td>\n",
       "      <td>15.000000</td>\n",
       "    </tr>\n",
       "  </tbody>\n",
       "</table>\n",
       "</div>"
      ],
      "text/plain": [
       "              EDAD       COMUNA\n",
       "count  1502.000000  1502.000000\n",
       "mean     42.914780     8.032623\n",
       "std      15.259494     4.407416\n",
       "min      18.000000     1.000000\n",
       "25%      30.000000     4.000000\n",
       "50%      41.000000     8.000000\n",
       "75%      54.000000    12.000000\n",
       "max      99.000000    15.000000"
      ]
     },
     "execution_count": 14,
     "metadata": {},
     "output_type": "execute_result"
    }
   ],
   "source": [
    "# qué hace .describe()? \n",
    "# qué tipos de datos lee?\n",
    "data.describe()"
   ]
  },
  {
   "cell_type": "code",
   "execution_count": 31,
   "metadata": {},
   "outputs": [
    {
     "data": {
      "text/plain": [
       "0    True\n",
       "1    True\n",
       "2    True\n",
       "3    True\n",
       "4    True\n",
       "Name: CONSENTIMIENTO, dtype: bool"
      ]
     },
     "execution_count": 31,
     "metadata": {},
     "output_type": "execute_result"
    }
   ],
   "source": [
    "# esta expresión genera un booleano sobre la serie/variable/columna que le pasamos\n",
    "lista=data['CONSENTIMIENTO']=='SI'\n",
    "lista.head(5) #visualizar registros"
   ]
  },
  {
   "cell_type": "code",
   "execution_count": 33,
   "metadata": {},
   "outputs": [
    {
     "data": {
      "text/plain": [
       "530     SI\n",
       "621     SI\n",
       "1068    SI\n",
       "1399    SI\n",
       "1424    SI\n",
       "Name: CONSENTIMIENTO, dtype: object"
      ]
     },
     "execution_count": 33,
     "metadata": {},
     "output_type": "execute_result"
    }
   ],
   "source": [
    "# empleamos la condición de arriba para seleccionar aquellos casos/registros/filas que cumplan con esa condición\n",
    "# aquí hacemos la selección sobre la misma columna\n",
    "# alternativamente se podría utilizar otra columna o el dataset completo, depende de lo que busquemos identificar!\n",
    "data['CONSENTIMIENTO'][data['CONSENTIMIENTO']=='SI'].sample(5)"
   ]
  },
  {
   "cell_type": "markdown",
   "metadata": {},
   "source": [
    "Como vimos, las expresiones `.head()` y `.sample()` obtienen una cantidad limitada de los registros que figuran en _data_. Head retorna los primeros N elementos de data, mientras que sample retorna una cantidad de elementos de manera aleatoria"
   ]
  },
  {
   "cell_type": "markdown",
   "metadata": {},
   "source": [
    "Con la función built in `.count()` retorna la cantidad de registros que tiene un Dataframe"
   ]
  },
  {
   "cell_type": "code",
   "execution_count": 35,
   "metadata": {},
   "outputs": [
    {
     "data": {
      "text/plain": [
       "1486"
      ]
     },
     "execution_count": 35,
     "metadata": {},
     "output_type": "execute_result"
    }
   ],
   "source": [
    "data['CONSENTIMIENTO'][data['CONSENTIMIENTO']=='SI'].count()"
   ]
  },
  {
   "cell_type": "code",
   "execution_count": 36,
   "metadata": {},
   "outputs": [
    {
     "name": "stdout",
     "output_type": "stream",
     "text": [
      "porcentaje de donantes:  98.93\n"
     ]
    }
   ],
   "source": [
    "# aquí utilizamos esa construcción para contar respuestas afirmativas y negativas, guardando el resultado en memoria\n",
    "donan = data['CONSENTIMIENTO'][data['CONSENTIMIENTO']=='SI'].count()\n",
    "no_donan = data['CONSENTIMIENTO'][data['CONSENTIMIENTO']!='SI'].count()\n",
    "\n",
    "# con ello, realizamos una operación que resuma la información\n",
    "print('porcentaje de donantes: ', round(donan/len(data)*100,2))"
   ]
  },
  {
   "cell_type": "code",
   "execution_count": 37,
   "metadata": {},
   "outputs": [
    {
     "data": {
      "text/plain": [
       "30"
      ]
     },
     "execution_count": 37,
     "metadata": {},
     "output_type": "execute_result"
    }
   ],
   "source": [
    "data['CUALQUIER_ORGANO'][data['CUALQUIER_ORGANO']!='SI'].count()"
   ]
  },
  {
   "cell_type": "code",
   "execution_count": 38,
   "metadata": {},
   "outputs": [
    {
     "data": {
      "text/plain": [
       "59             HIGADO-CORNEAS\n",
       "233      RIÑON-HIGADO-CORNEAS\n",
       "234              HIGADO-RIÑON\n",
       "326                      OJOS\n",
       "432                   CORNEAS\n",
       "433       CORNEAS-PIEL-HUESOS\n",
       "528                   CORNEAS\n",
       "529       CORNEAS-PIEL-HUESOS\n",
       "648       HIGADO-RIÑON-PULMON\n",
       "883     RIÑON-CORNEAS-CORAZON\n",
       "914               PIEL-HUESOS\n",
       "1002                  TEJIDOS\n",
       "1013                     PIEL\n",
       "1434                  CORNEAS\n",
       "Name: CUALES_NO, dtype: object"
      ]
     },
     "execution_count": 38,
     "metadata": {},
     "output_type": "execute_result"
    }
   ],
   "source": [
    "# .notnull() también opera como un booleano\n",
    "# con la misma lógica que antes, podemos seleccionar aquellas filas cuya respuesta presenta alguna especificación\n",
    "data['CUALES_NO'][data['CUALES_NO'].notnull()]"
   ]
  },
  {
   "cell_type": "code",
   "execution_count": 39,
   "metadata": {},
   "outputs": [
    {
     "data": {
      "text/plain": [
       "82      True\n",
       "83      True\n",
       "96      True\n",
       "119     True\n",
       "120     True\n",
       "121     True\n",
       "122     True\n",
       "132     True\n",
       "133     True\n",
       "167     True\n",
       "556     True\n",
       "1371    True\n",
       "1381    True\n",
       "1382    True\n",
       "1383    True\n",
       "1388    True\n",
       "dtype: bool"
      ]
     },
     "execution_count": 39,
     "metadata": {},
     "output_type": "execute_result"
    }
   ],
   "source": [
    "# vemos que hay 16 personas que no dieron consentimiento para donación\n",
    "# también hay 16 que no aceptaron donar para trasplante\n",
    "# serán los mismos? qué podés decir a partir de este output?\n",
    "data['TRASPLANTE'][data['TRASPLANTE']!='SI'] == data['CONSENTIMIENTO'][data['CONSENTIMIENTO']!='SI']"
   ]
  },
  {
   "cell_type": "code",
   "execution_count": 40,
   "metadata": {},
   "outputs": [
    {
     "data": {
      "text/plain": [
       "909"
      ]
     },
     "execution_count": 40,
     "metadata": {},
     "output_type": "execute_result"
    }
   ],
   "source": [
    "data['INVESTIGACION'][data['INVESTIGACION']!='SI'].count()"
   ]
  },
  {
   "cell_type": "markdown",
   "metadata": {},
   "source": [
    "#### Retomemos la exploración de las variables numéricas\n",
    "Con funciones propias de la estadística descriptiva, obtendremos información acerca de las características de los encuestados"
   ]
  },
  {
   "cell_type": "code",
   "execution_count": 42,
   "metadata": {},
   "outputs": [
    {
     "name": "stdout",
     "output_type": "stream",
     "text": [
      "casos:  1502\n",
      "promedio:  42.91\n",
      "mediana:  41.0\n",
      "moda:  29\n",
      "desvío estándar:  15.26\n"
     ]
    }
   ],
   "source": [
    "print('casos: ', len(data))\n",
    "print('promedio: ', round(data['EDAD'].mean(),2))\n",
    "print('mediana: ', round(data['EDAD'].median(),2))\n",
    "print('moda: ', stats.mode(data['EDAD'])[0][0]) # SciPy & índices/subíndices\n",
    "print('desvío estándar: ', round(data['EDAD'].std(),2))"
   ]
  },
  {
   "cell_type": "code",
   "execution_count": 45,
   "metadata": {},
   "outputs": [
    {
     "data": {
      "image/png": "[encoded data removed]",
      "text/plain": [
       "<Figure size 864x576 with 1 Axes>"
      ]
     },
     "metadata": {},
     "output_type": "display_data"
    }
   ],
   "source": [
    "# aquí graficamos la forma que cobra la frecuencia de la variable EDAD\n",
    "# utilizamos un método propio de PANDAS para plotear histogramas\n",
    "data['EDAD'].hist(bins=10, grid=False, figsize=(12,8), color='c', rwidth=0.9);"
   ]
  },
  {
   "cell_type": "markdown",
   "metadata": {},
   "source": [
    "En el próximo bloque de código aparece por primera vez la librería __SEABORN__. Ésta tiene por objetivo mejorar la interfaz de los distintos gráficos y estadísticas generadas en nuestro Notebook. Luego de eso, nuevamente llamo a graficar los datos en el documento, probablemente el histograma aparezca diferente..."
   ]
  },
  {
   "cell_type": "code",
   "execution_count": 47,
   "metadata": {},
   "outputs": [
    {
     "data": {
      "image/png": "[encoded data removed]",
      "text/plain": [
       "<Figure size 864x576 with 1 Axes>"
      ]
     },
     "metadata": {},
     "output_type": "display_data"
    }
   ],
   "source": [
    "sns.set(style='whitegrid', font_scale=1.5)\n",
    "data['EDAD'].hist(bins=10, grid=False, figsize=(12,8), color='c', rwidth=0.9);"
   ]
  },
  {
   "cell_type": "markdown",
   "metadata": {},
   "source": [
    "Continuemos aprendiendo y utilizando diferentes funciones que proveen las librerías de DataScience de Python para obtener información relevante del dataset"
   ]
  },
  {
   "cell_type": "code",
   "execution_count": 48,
   "metadata": {},
   "outputs": [
    {
     "data": {
      "text/plain": [
       "array(['ARGENTINA', 'CHILENA', 'PERUANA', 'URUGUAYA', 'ESPAÑOLA',\n",
       "       'PARAGUAYA', 'BOLIVIANA', 'CANADIENSE', 'BRASILERA', 'VENEZOLANA',\n",
       "       'ITALIANA', 'MEXICANA', 'COLOMBIANA', 'FINLANDESA'], dtype=object)"
      ]
     },
     "execution_count": 48,
     "metadata": {},
     "output_type": "execute_result"
    }
   ],
   "source": [
    "data['NACIONALIDAD'].unique()\n",
    "#devolverá un listado con los elementos de la columna Nacionalidad sin repetir"
   ]
  },
  {
   "cell_type": "code",
   "execution_count": 49,
   "metadata": {},
   "outputs": [
    {
     "data": {
      "text/plain": [
       "ARGENTINA     1448\n",
       "PARAGUAYA       16\n",
       "URUGUAYA        13\n",
       "BRASILERA        5\n",
       "CHILENA          3\n",
       "BOLIVIANA        3\n",
       "PERUANA          3\n",
       "ITALIANA         2\n",
       "VENEZOLANA       2\n",
       "ESPAÑOLA         2\n",
       "MEXICANA         2\n",
       "CANADIENSE       1\n",
       "FINLANDESA       1\n",
       "COLOMBIANA       1\n",
       "Name: NACIONALIDAD, dtype: int64"
      ]
     },
     "execution_count": 49,
     "metadata": {},
     "output_type": "execute_result"
    }
   ],
   "source": [
    "data['NACIONALIDAD'].value_counts()\n",
    "#muestra un listado con la cantidad de personas por nacionalidad"
   ]
  },
  {
   "cell_type": "code",
   "execution_count": 50,
   "metadata": {},
   "outputs": [
    {
     "data": {
      "text/html": [
       "<div>\n",
       "<style scoped>\n",
       "    .dataframe tbody tr th:only-of-type {\n",
       "        vertical-align: middle;\n",
       "    }\n",
       "\n",
       "    .dataframe tbody tr th {\n",
       "        vertical-align: top;\n",
       "    }\n",
       "\n",
       "    .dataframe thead th {\n",
       "        text-align: right;\n",
       "    }\n",
       "</style>\n",
       "<table border=\"1\" class=\"dataframe\">\n",
       "  <thead>\n",
       "    <tr style=\"text-align: right;\">\n",
       "      <th></th>\n",
       "      <th>NACIONALIDAD</th>\n",
       "      <th>SEXO</th>\n",
       "      <th>EDAD</th>\n",
       "      <th>COMUNA</th>\n",
       "    </tr>\n",
       "  </thead>\n",
       "  <tbody>\n",
       "    <tr>\n",
       "      <th>82</th>\n",
       "      <td>ARGENTINA</td>\n",
       "      <td>F</td>\n",
       "      <td>24</td>\n",
       "      <td>8</td>\n",
       "    </tr>\n",
       "    <tr>\n",
       "      <th>83</th>\n",
       "      <td>ARGENTINA</td>\n",
       "      <td>F</td>\n",
       "      <td>37</td>\n",
       "      <td>4</td>\n",
       "    </tr>\n",
       "    <tr>\n",
       "      <th>96</th>\n",
       "      <td>ARGENTINA</td>\n",
       "      <td>F</td>\n",
       "      <td>36</td>\n",
       "      <td>1</td>\n",
       "    </tr>\n",
       "    <tr>\n",
       "      <th>119</th>\n",
       "      <td>ARGENTINA</td>\n",
       "      <td>M</td>\n",
       "      <td>18</td>\n",
       "      <td>4</td>\n",
       "    </tr>\n",
       "    <tr>\n",
       "      <th>120</th>\n",
       "      <td>PERUANA</td>\n",
       "      <td>F</td>\n",
       "      <td>38</td>\n",
       "      <td>4</td>\n",
       "    </tr>\n",
       "    <tr>\n",
       "      <th>121</th>\n",
       "      <td>ARGENTINA</td>\n",
       "      <td>M</td>\n",
       "      <td>37</td>\n",
       "      <td>4</td>\n",
       "    </tr>\n",
       "    <tr>\n",
       "      <th>122</th>\n",
       "      <td>ARGENTINA</td>\n",
       "      <td>F</td>\n",
       "      <td>34</td>\n",
       "      <td>4</td>\n",
       "    </tr>\n",
       "    <tr>\n",
       "      <th>132</th>\n",
       "      <td>ARGENTINA</td>\n",
       "      <td>M</td>\n",
       "      <td>51</td>\n",
       "      <td>6</td>\n",
       "    </tr>\n",
       "    <tr>\n",
       "      <th>133</th>\n",
       "      <td>ARGENTINA</td>\n",
       "      <td>F</td>\n",
       "      <td>82</td>\n",
       "      <td>6</td>\n",
       "    </tr>\n",
       "    <tr>\n",
       "      <th>167</th>\n",
       "      <td>ARGENTINA</td>\n",
       "      <td>M</td>\n",
       "      <td>46</td>\n",
       "      <td>4</td>\n",
       "    </tr>\n",
       "    <tr>\n",
       "      <th>556</th>\n",
       "      <td>ARGENTINA</td>\n",
       "      <td>M</td>\n",
       "      <td>25</td>\n",
       "      <td>15</td>\n",
       "    </tr>\n",
       "    <tr>\n",
       "      <th>1371</th>\n",
       "      <td>ARGENTINA</td>\n",
       "      <td>F</td>\n",
       "      <td>38</td>\n",
       "      <td>13</td>\n",
       "    </tr>\n",
       "    <tr>\n",
       "      <th>1381</th>\n",
       "      <td>ARGENTINA</td>\n",
       "      <td>F</td>\n",
       "      <td>29</td>\n",
       "      <td>8</td>\n",
       "    </tr>\n",
       "    <tr>\n",
       "      <th>1382</th>\n",
       "      <td>ARGENTINA</td>\n",
       "      <td>F</td>\n",
       "      <td>57</td>\n",
       "      <td>7</td>\n",
       "    </tr>\n",
       "    <tr>\n",
       "      <th>1383</th>\n",
       "      <td>ARGENTINA</td>\n",
       "      <td>F</td>\n",
       "      <td>70</td>\n",
       "      <td>3</td>\n",
       "    </tr>\n",
       "    <tr>\n",
       "      <th>1388</th>\n",
       "      <td>ARGENTINA</td>\n",
       "      <td>M</td>\n",
       "      <td>61</td>\n",
       "      <td>4</td>\n",
       "    </tr>\n",
       "  </tbody>\n",
       "</table>\n",
       "</div>"
      ],
      "text/plain": [
       "     NACIONALIDAD SEXO  EDAD  COMUNA\n",
       "82      ARGENTINA    F    24       8\n",
       "83      ARGENTINA    F    37       4\n",
       "96      ARGENTINA    F    36       1\n",
       "119     ARGENTINA    M    18       4\n",
       "120       PERUANA    F    38       4\n",
       "121     ARGENTINA    M    37       4\n",
       "122     ARGENTINA    F    34       4\n",
       "132     ARGENTINA    M    51       6\n",
       "133     ARGENTINA    F    82       6\n",
       "167     ARGENTINA    M    46       4\n",
       "556     ARGENTINA    M    25      15\n",
       "1371    ARGENTINA    F    38      13\n",
       "1381    ARGENTINA    F    29       8\n",
       "1382    ARGENTINA    F    57       7\n",
       "1383    ARGENTINA    F    70       3\n",
       "1388    ARGENTINA    M    61       4"
      ]
     },
     "execution_count": 50,
     "metadata": {},
     "output_type": "execute_result"
    }
   ],
   "source": [
    "# veamos qué particularidades tienen quienes no serán donantes\n",
    "data.loc[data['CONSENTIMIENTO']!='SI',['NACIONALIDAD', 'SEXO', 'EDAD', 'COMUNA']]"
   ]
  },
  {
   "cell_type": "markdown",
   "metadata": {},
   "source": [
    "¿Todos argentinos?... Qué mal...\n",
    "A partir de esto, conociendo los datos, y utilizando ciertas habilidades como __GROUP BY__ (que funciona exactamente igual que como lo hemos visto con una Base de datos SQL, podemos definir nuevos valores relevantes. "
   ]
  },
  {
   "cell_type": "code",
   "execution_count": 52,
   "metadata": {},
   "outputs": [
    {
     "data": {
      "text/html": [
       "<div>\n",
       "<style scoped>\n",
       "    .dataframe tbody tr th:only-of-type {\n",
       "        vertical-align: middle;\n",
       "    }\n",
       "\n",
       "    .dataframe tbody tr th {\n",
       "        vertical-align: top;\n",
       "    }\n",
       "\n",
       "    .dataframe thead th {\n",
       "        text-align: right;\n",
       "    }\n",
       "</style>\n",
       "<table border=\"1\" class=\"dataframe\">\n",
       "  <thead>\n",
       "    <tr style=\"text-align: right;\">\n",
       "      <th></th>\n",
       "      <th></th>\n",
       "      <th>EDAD</th>\n",
       "      <th>COMUNA</th>\n",
       "    </tr>\n",
       "    <tr>\n",
       "      <th>NACIONALIDAD</th>\n",
       "      <th>SEXO</th>\n",
       "      <th></th>\n",
       "      <th></th>\n",
       "    </tr>\n",
       "  </thead>\n",
       "  <tbody>\n",
       "    <tr>\n",
       "      <th rowspan=\"2\" valign=\"top\">ARGENTINA</th>\n",
       "      <th>F</th>\n",
       "      <td>9</td>\n",
       "      <td>9</td>\n",
       "    </tr>\n",
       "    <tr>\n",
       "      <th>M</th>\n",
       "      <td>6</td>\n",
       "      <td>6</td>\n",
       "    </tr>\n",
       "    <tr>\n",
       "      <th>PERUANA</th>\n",
       "      <th>F</th>\n",
       "      <td>1</td>\n",
       "      <td>1</td>\n",
       "    </tr>\n",
       "  </tbody>\n",
       "</table>\n",
       "</div>"
      ],
      "text/plain": [
       "                   EDAD  COMUNA\n",
       "NACIONALIDAD SEXO              \n",
       "ARGENTINA    F        9       9\n",
       "             M        6       6\n",
       "PERUANA      F        1       1"
      ]
     },
     "execution_count": 52,
     "metadata": {},
     "output_type": "execute_result"
    }
   ],
   "source": [
    "data.loc[data['CONSENTIMIENTO']!='SI',['NACIONALIDAD', 'SEXO', 'EDAD', 'COMUNA']].groupby(['NACIONALIDAD','SEXO']).count()"
   ]
  },
  {
   "cell_type": "markdown",
   "metadata": {},
   "source": [
    "### Establecimientos"
   ]
  },
  {
   "cell_type": "code",
   "execution_count": 53,
   "metadata": {},
   "outputs": [],
   "source": [
    "# subimos el archivo, si estamos en el entorno Colaboratory\n",
    "#from google.colab import files\n",
    "#files.upload()"
   ]
  },
  {
   "cell_type": "code",
   "execution_count": 54,
   "metadata": {},
   "outputs": [],
   "source": [
    "comunas = pd.read_csv('datasets/establecimentos-elecciones-2017.csv', sep=';', encoding='utf8')"
   ]
  },
  {
   "cell_type": "markdown",
   "metadata": {},
   "source": [
    "Una vez que pudiste acceder a las columnas:\n",
    "\n",
    "¿Qué información nos puede servir para complementar el primer dataset?\n",
    "¿Se pueden integrar facilmente los dos datasets? ¿Tienen las mismas dimensiones? ¿Cómo se podrían vincular?"
   ]
  },
  {
   "cell_type": "code",
   "execution_count": 55,
   "metadata": {},
   "outputs": [],
   "source": [
    "# vamos a parsear los datos de la comuna\n",
    "# para poder generar una equivalencia entre las columnas 'COMUNA' de un df y otro, tenemos que adaptarlas\n",
    "# por lo tanto, quitamos la palabra 'COMUNA' de cada celda, preservando el número\n",
    "comunas['COMUNA'] = comunas['COMUNA'].apply(lambda x: x.replace('COMUNA','')).astype(int)"
   ]
  },
  {
   "cell_type": "code",
   "execution_count": 56,
   "metadata": {},
   "outputs": [
    {
     "data": {
      "text/html": [
       "<div>\n",
       "<style scoped>\n",
       "    .dataframe tbody tr th:only-of-type {\n",
       "        vertical-align: middle;\n",
       "    }\n",
       "\n",
       "    .dataframe tbody tr th {\n",
       "        vertical-align: top;\n",
       "    }\n",
       "\n",
       "    .dataframe thead th {\n",
       "        text-align: right;\n",
       "    }\n",
       "</style>\n",
       "<table border=\"1\" class=\"dataframe\">\n",
       "  <thead>\n",
       "    <tr style=\"text-align: right;\">\n",
       "      <th></th>\n",
       "      <th>BARRIO</th>\n",
       "      <th>COMUNA</th>\n",
       "    </tr>\n",
       "  </thead>\n",
       "  <tbody>\n",
       "    <tr>\n",
       "      <th>0</th>\n",
       "      <td>RECOLETA</td>\n",
       "      <td>2</td>\n",
       "    </tr>\n",
       "    <tr>\n",
       "      <th>1</th>\n",
       "      <td>RECOLETA</td>\n",
       "      <td>2</td>\n",
       "    </tr>\n",
       "    <tr>\n",
       "      <th>2</th>\n",
       "      <td>BOEDO</td>\n",
       "      <td>5</td>\n",
       "    </tr>\n",
       "    <tr>\n",
       "      <th>3</th>\n",
       "      <td>ALMAGRO</td>\n",
       "      <td>5</td>\n",
       "    </tr>\n",
       "    <tr>\n",
       "      <th>4</th>\n",
       "      <td>VILLA LURO</td>\n",
       "      <td>10</td>\n",
       "    </tr>\n",
       "    <tr>\n",
       "      <th>5</th>\n",
       "      <td>VILLA DEVOTO</td>\n",
       "      <td>11</td>\n",
       "    </tr>\n",
       "    <tr>\n",
       "      <th>6</th>\n",
       "      <td>COGHLAN</td>\n",
       "      <td>12</td>\n",
       "    </tr>\n",
       "    <tr>\n",
       "      <th>7</th>\n",
       "      <td>COLEGIALES</td>\n",
       "      <td>13</td>\n",
       "    </tr>\n",
       "    <tr>\n",
       "      <th>8</th>\n",
       "      <td>PALERMO</td>\n",
       "      <td>14</td>\n",
       "    </tr>\n",
       "    <tr>\n",
       "      <th>9</th>\n",
       "      <td>RECOLETA</td>\n",
       "      <td>2</td>\n",
       "    </tr>\n",
       "  </tbody>\n",
       "</table>\n",
       "</div>"
      ],
      "text/plain": [
       "         BARRIO  COMUNA\n",
       "0      RECOLETA       2\n",
       "1      RECOLETA       2\n",
       "2         BOEDO       5\n",
       "3       ALMAGRO       5\n",
       "4    VILLA LURO      10\n",
       "5  VILLA DEVOTO      11\n",
       "6       COGHLAN      12\n",
       "7    COLEGIALES      13\n",
       "8       PALERMO      14\n",
       "9      RECOLETA       2"
      ]
     },
     "execution_count": 56,
     "metadata": {},
     "output_type": "execute_result"
    }
   ],
   "source": [
    "# acá tenemos a las columnas candidatas para el parseo\n",
    "# está todo bien en los datos?\n",
    "comunas[['BARRIO','COMUNA']]"
   ]
  },
  {
   "cell_type": "code",
   "execution_count": 57,
   "metadata": {},
   "outputs": [
    {
     "data": {
      "text/plain": [
       "{2: 'RECOLETA',\n",
       " 5: 'ALMAGRO',\n",
       " 10: 'VILLA LURO',\n",
       " 11: 'VILLA DEVOTO',\n",
       " 12: 'COGHLAN',\n",
       " 13: 'COLEGIALES',\n",
       " 14: 'PALERMO'}"
      ]
     },
     "execution_count": 57,
     "metadata": {},
     "output_type": "execute_result"
    }
   ],
   "source": [
    "# vamos a llevar ese subset a un diccionario para que las KEYS sean para el matching con el df DATA y los VALUE operen como etiquetas\n",
    "ref = { k:v for v,k in zip(comunas['BARRIO'],comunas['COMUNA'])}\n",
    "ref"
   ]
  },
  {
   "cell_type": "markdown",
   "metadata": {},
   "source": [
    "¿La información está completa? ¿Perdimos algo en el camino?"
   ]
  },
  {
   "cell_type": "code",
   "execution_count": 59,
   "metadata": {},
   "outputs": [
    {
     "data": {
      "text/plain": [
       "{2: 'RECOLETA',\n",
       " 5: 'ALMAGRO/BOEDO',\n",
       " 10: 'VILLA LURO',\n",
       " 11: 'VILLA DEVOTO',\n",
       " 12: 'COGHLAN',\n",
       " 13: 'COLEGIALES',\n",
       " 14: 'PALERMO'}"
      ]
     },
     "execution_count": 59,
     "metadata": {},
     "output_type": "execute_result"
    }
   ],
   "source": [
    "# notaste que había 2 establecimientos en la comuna 5, uno en Almagro y otro en Boedo\n",
    "# como en nuestro df DATA no podemos diferenciarlos, incluimos ambos a la referencia y la actualizamos\n",
    "ref.update({5 : 'ALMAGRO/BOEDO'})\n",
    "ref"
   ]
  },
  {
   "cell_type": "code",
   "execution_count": 60,
   "metadata": {},
   "outputs": [
    {
     "data": {
      "text/plain": [
       "1487    COLEGIALES\n",
       "1488    COLEGIALES\n",
       "1489    COLEGIALES\n",
       "1490       PALERMO\n",
       "1491       PALERMO\n",
       "1492       PALERMO\n",
       "1493       PALERMO\n",
       "1494       PALERMO\n",
       "1495       PALERMO\n",
       "1496       PALERMO\n",
       "1497    VILLA LURO\n",
       "1498    VILLA LURO\n",
       "1499    VILLA LURO\n",
       "1500    VILLA LURO\n",
       "1501    VILLA LURO\n",
       "Name: COMUNA, dtype: object"
      ]
     },
     "execution_count": 60,
     "metadata": {},
     "output_type": "execute_result"
    }
   ],
   "source": [
    "# cuando al .map() le pasamos un diccionario cuyas claves generan equivalencias con los valores de cqada registro...\n",
    "# es posible etiquetar o renombrar el contenido de cada celda \n",
    "data['COMUNA'].map(ref)[-15:]"
   ]
  },
  {
   "cell_type": "code",
   "execution_count": 61,
   "metadata": {},
   "outputs": [],
   "source": [
    "# aquí guardamos ese reetiquetado en una nueva columna para no perder información\n",
    "data['COMUNA2'] = data['COMUNA'].map(ref)"
   ]
  },
  {
   "cell_type": "code",
   "execution_count": 62,
   "metadata": {},
   "outputs": [
    {
     "data": {
      "text/plain": [
       "Index(['NACIONALIDAD', 'SEXO', 'EDAD', 'CONSENTIMIENTO', 'CUALQUIER_ORGANO',\n",
       "       'CUALES_NO', 'TRASPLANTE', 'INVESTIGACION', 'COMUNA', 'COMUNA2'],\n",
       "      dtype='object')"
      ]
     },
     "execution_count": 62,
     "metadata": {},
     "output_type": "execute_result"
    }
   ],
   "source": [
    "data.columns"
   ]
  },
  {
   "cell_type": "code",
   "execution_count": 63,
   "metadata": {},
   "outputs": [
    {
     "data": {
      "text/html": [
       "<div>\n",
       "<style scoped>\n",
       "    .dataframe tbody tr th:only-of-type {\n",
       "        vertical-align: middle;\n",
       "    }\n",
       "\n",
       "    .dataframe tbody tr th {\n",
       "        vertical-align: top;\n",
       "    }\n",
       "\n",
       "    .dataframe thead th {\n",
       "        text-align: right;\n",
       "    }\n",
       "</style>\n",
       "<table border=\"1\" class=\"dataframe\">\n",
       "  <thead>\n",
       "    <tr style=\"text-align: right;\">\n",
       "      <th></th>\n",
       "      <th></th>\n",
       "      <th>NACIONALIDAD</th>\n",
       "      <th>EDAD</th>\n",
       "      <th>CUALQUIER_ORGANO</th>\n",
       "      <th>CUALES_NO</th>\n",
       "      <th>TRASPLANTE</th>\n",
       "      <th>INVESTIGACION</th>\n",
       "      <th>COMUNA</th>\n",
       "      <th>COMUNA2</th>\n",
       "    </tr>\n",
       "    <tr>\n",
       "      <th>CONSENTIMIENTO</th>\n",
       "      <th>SEXO</th>\n",
       "      <th></th>\n",
       "      <th></th>\n",
       "      <th></th>\n",
       "      <th></th>\n",
       "      <th></th>\n",
       "      <th></th>\n",
       "      <th></th>\n",
       "      <th></th>\n",
       "    </tr>\n",
       "  </thead>\n",
       "  <tbody>\n",
       "    <tr>\n",
       "      <th rowspan=\"2\" valign=\"top\">NO</th>\n",
       "      <th>F</th>\n",
       "      <td>10</td>\n",
       "      <td>10</td>\n",
       "      <td>10</td>\n",
       "      <td>0</td>\n",
       "      <td>10</td>\n",
       "      <td>10</td>\n",
       "      <td>10</td>\n",
       "      <td>1</td>\n",
       "    </tr>\n",
       "    <tr>\n",
       "      <th>M</th>\n",
       "      <td>6</td>\n",
       "      <td>6</td>\n",
       "      <td>6</td>\n",
       "      <td>0</td>\n",
       "      <td>6</td>\n",
       "      <td>6</td>\n",
       "      <td>6</td>\n",
       "      <td>0</td>\n",
       "    </tr>\n",
       "    <tr>\n",
       "      <th rowspan=\"2\" valign=\"top\">SI</th>\n",
       "      <th>F</th>\n",
       "      <td>1062</td>\n",
       "      <td>1062</td>\n",
       "      <td>1062</td>\n",
       "      <td>8</td>\n",
       "      <td>1062</td>\n",
       "      <td>1062</td>\n",
       "      <td>1062</td>\n",
       "      <td>455</td>\n",
       "    </tr>\n",
       "    <tr>\n",
       "      <th>M</th>\n",
       "      <td>424</td>\n",
       "      <td>424</td>\n",
       "      <td>424</td>\n",
       "      <td>6</td>\n",
       "      <td>424</td>\n",
       "      <td>424</td>\n",
       "      <td>424</td>\n",
       "      <td>180</td>\n",
       "    </tr>\n",
       "  </tbody>\n",
       "</table>\n",
       "</div>"
      ],
      "text/plain": [
       "                     NACIONALIDAD  EDAD  CUALQUIER_ORGANO  CUALES_NO  \\\n",
       "CONSENTIMIENTO SEXO                                                    \n",
       "NO             F               10    10                10          0   \n",
       "               M                6     6                 6          0   \n",
       "SI             F             1062  1062              1062          8   \n",
       "               M              424   424               424          6   \n",
       "\n",
       "                     TRASPLANTE  INVESTIGACION  COMUNA  COMUNA2  \n",
       "CONSENTIMIENTO SEXO                                              \n",
       "NO             F             10             10      10        1  \n",
       "               M              6              6       6        0  \n",
       "SI             F           1062           1062    1062      455  \n",
       "               M            424            424     424      180  "
      ]
     },
     "execution_count": 63,
     "metadata": {},
     "output_type": "execute_result"
    }
   ],
   "source": [
    "x = data.groupby(['CONSENTIMIENTO','SEXO']).count()\n",
    "x"
   ]
  },
  {
   "cell_type": "code",
   "execution_count": 65,
   "metadata": {},
   "outputs": [
    {
     "name": "stdout",
     "output_type": "stream",
     "text": [
      "['F' 'M']\n",
      "['SI' 'NO']\n",
      "['SI' 'NO']\n"
     ]
    }
   ],
   "source": [
    "categorias = ['SEXO', 'CONSENTIMIENTO', 'INVESTIGACION']\n",
    "\n",
    "# excluyo \n",
    "# NACIONALIDAD y COMUNA (quiero conservar sus etiquetas)\n",
    "# EDAD (ya numérica)\n",
    "# CUALES_NO (14 casos, detalle arriba)\n",
    "# CUALQUIER_ORGANO_SI (30 con NO)\n",
    "# TRASPLANTE (es redundante)\n",
    "\n",
    "for i in categorias:\n",
    "    print(data[i].unique())"
   ]
  },
  {
   "cell_type": "code",
   "execution_count": 67,
   "metadata": {},
   "outputs": [],
   "source": [
    "# generamos un df de variables dummies (datos numéricos binarios [0, 1]) para facilitar algunos procedimientos \n",
    "dummies = pd.get_dummies(data[categorias])"
   ]
  },
  {
   "cell_type": "code",
   "execution_count": 68,
   "metadata": {},
   "outputs": [
    {
     "data": {
      "text/html": [
       "<div>\n",
       "<style scoped>\n",
       "    .dataframe tbody tr th:only-of-type {\n",
       "        vertical-align: middle;\n",
       "    }\n",
       "\n",
       "    .dataframe tbody tr th {\n",
       "        vertical-align: top;\n",
       "    }\n",
       "\n",
       "    .dataframe thead th {\n",
       "        text-align: right;\n",
       "    }\n",
       "</style>\n",
       "<table border=\"1\" class=\"dataframe\">\n",
       "  <thead>\n",
       "    <tr style=\"text-align: right;\">\n",
       "      <th></th>\n",
       "      <th>NACIONALIDAD</th>\n",
       "      <th>EDAD</th>\n",
       "      <th>COMUNA</th>\n",
       "      <th>COMUNA2</th>\n",
       "      <th>SEXO_F</th>\n",
       "      <th>CONSENTIMIENTO_SI</th>\n",
       "      <th>INVESTIGACION_SI</th>\n",
       "    </tr>\n",
       "  </thead>\n",
       "  <tbody>\n",
       "    <tr>\n",
       "      <th>0</th>\n",
       "      <td>ARGENTINA</td>\n",
       "      <td>40</td>\n",
       "      <td>2</td>\n",
       "      <td>RECOLETA</td>\n",
       "      <td>1</td>\n",
       "      <td>1</td>\n",
       "      <td>1</td>\n",
       "    </tr>\n",
       "    <tr>\n",
       "      <th>1</th>\n",
       "      <td>ARGENTINA</td>\n",
       "      <td>31</td>\n",
       "      <td>2</td>\n",
       "      <td>RECOLETA</td>\n",
       "      <td>0</td>\n",
       "      <td>1</td>\n",
       "      <td>0</td>\n",
       "    </tr>\n",
       "    <tr>\n",
       "      <th>2</th>\n",
       "      <td>ARGENTINA</td>\n",
       "      <td>41</td>\n",
       "      <td>2</td>\n",
       "      <td>RECOLETA</td>\n",
       "      <td>1</td>\n",
       "      <td>1</td>\n",
       "      <td>1</td>\n",
       "    </tr>\n",
       "    <tr>\n",
       "      <th>3</th>\n",
       "      <td>ARGENTINA</td>\n",
       "      <td>29</td>\n",
       "      <td>2</td>\n",
       "      <td>RECOLETA</td>\n",
       "      <td>0</td>\n",
       "      <td>1</td>\n",
       "      <td>0</td>\n",
       "    </tr>\n",
       "    <tr>\n",
       "      <th>4</th>\n",
       "      <td>ARGENTINA</td>\n",
       "      <td>26</td>\n",
       "      <td>2</td>\n",
       "      <td>RECOLETA</td>\n",
       "      <td>1</td>\n",
       "      <td>1</td>\n",
       "      <td>0</td>\n",
       "    </tr>\n",
       "  </tbody>\n",
       "</table>\n",
       "</div>"
      ],
      "text/plain": [
       "  NACIONALIDAD  EDAD  COMUNA   COMUNA2  SEXO_F  CONSENTIMIENTO_SI  \\\n",
       "0    ARGENTINA    40       2  RECOLETA       1                  1   \n",
       "1    ARGENTINA    31       2  RECOLETA       0                  1   \n",
       "2    ARGENTINA    41       2  RECOLETA       1                  1   \n",
       "3    ARGENTINA    29       2  RECOLETA       0                  1   \n",
       "4    ARGENTINA    26       2  RECOLETA       1                  1   \n",
       "\n",
       "   INVESTIGACION_SI  \n",
       "0                 1  \n",
       "1                 0  \n",
       "2                 1  \n",
       "3                 0  \n",
       "4                 0  "
      ]
     },
     "execution_count": 68,
     "metadata": {},
     "output_type": "execute_result"
    }
   ],
   "source": [
    "# armamos selecciones de las columnas que nos interesa conservar en un nuevo df, ya integrado\n",
    "data_seleccion = ['NACIONALIDAD', 'EDAD', 'COMUNA', 'COMUNA2']\n",
    "dummies_seleccion = ['SEXO_F', 'CONSENTIMIENTO_SI', 'INVESTIGACION_SI']\n",
    "\n",
    "#construimos el nuevo df, con partes de cada uno de los df existentes\n",
    "newdata = data[data_seleccion].join(dummies[dummies_seleccion])\n",
    "newdata.head()"
   ]
  },
  {
   "cell_type": "code",
   "execution_count": 69,
   "metadata": {},
   "outputs": [
    {
     "data": {
      "text/plain": [
       "NaN              57.656458\n",
       "ALMAGRO/BOEDO     8.455393\n",
       "COLEGIALES        7.856192\n",
       "RECOLETA          6.058589\n",
       "COGHLAN           5.858855\n",
       "PALERMO           5.659121\n",
       "VILLA DEVOTO      4.860186\n",
       "VILLA LURO        3.595206\n",
       "Name: COMUNA2, dtype: float64"
      ]
     },
     "execution_count": 69,
     "metadata": {},
     "output_type": "execute_result"
    }
   ],
   "source": [
    "# chequeamos estructura de los datos por comuna\n",
    "newdata['COMUNA2'].value_counts(normalize=True, sort=True, ascending=False, dropna=False)*100"
   ]
  },
  {
   "cell_type": "markdown",
   "metadata": {},
   "source": [
    "¿Habías notado que prácticamente la mitad de las comunas no estaba categorizada o carecía de establecimiento de referencia? \n",
    "De hecho, más de la mitad de la información al respecto no ha sido disponibilizada! \n",
    "\n",
    "\n",
    "### Desafío\n",
    "Una alternativa para resulver este tema es armar un diccionario propio para el parseo, completo. Podés recurrir al GCBA o a Wikipedia para armar una lista completa de las referencias por comuna { número : barrios afectados } y reescribir la columna 'COMUNA 2'. "
   ]
  },
  {
   "cell_type": "code",
   "execution_count": 70,
   "metadata": {},
   "outputs": [],
   "source": [
    "# cómo comenzarías?\n",
    "# escribí el código acá abajo!\n"
   ]
  },
  {
   "cell_type": "markdown",
   "metadata": {},
   "source": [
    "En este caso, es difícil por la conglomeración de dummies. De hechom muchos puntos se apilan en el mismo par ordenado. De ahí que nos conviene graficar las series con histograms o swarmplots. \n",
    "\n",
    "[Aquí](https://seaborn.pydata.org/generated/seaborn.pairplot.html) también podés ver algunos ejemplos de datos más funcionales para el pairplot."
   ]
  },
  {
   "cell_type": "code",
   "execution_count": 73,
   "metadata": {},
   "outputs": [
    {
     "data": {
      "image/png": "[encoded data removed]",
      "text/plain": [
       "<Figure size 432x288 with 1 Axes>"
      ]
     },
     "metadata": {},
     "output_type": "display_data"
    }
   ],
   "source": [
    "sns.set(style='whitegrid', font_scale=1)\n",
    "sns.swarmplot(y='EDAD', x='CONSENTIMIENTO_SI', data=newdata, color='b');"
   ]
  },
  {
   "cell_type": "code",
   "execution_count": 74,
   "metadata": {},
   "outputs": [
    {
     "data": {
      "image/png": "[encoded data removed]",
      "text/plain": [
       "<Figure size 432x288 with 1 Axes>"
      ]
     },
     "metadata": {},
     "output_type": "display_data"
    }
   ],
   "source": [
    "sns.swarmplot(y='EDAD', x='SEXO_F', data=newdata, color='c');"
   ]
  },
  {
   "cell_type": "code",
   "execution_count": null,
   "metadata": {},
   "outputs": [],
   "source": []
  }
 ],
 "metadata": {
  "kernelspec": {
   "display_name": "Python 3",
   "language": "python",
   "name": "python3"
  },
  "language_info": {
   "codemirror_mode": {
    "name": "ipython",
    "version": 3
   },
   "file_extension": ".py",
   "mimetype": "text/x-python",
   "name": "python",
   "nbconvert_exporter": "python",
   "pygments_lexer": "ipython3",
   "version": "3.7.2"
  }
 },
 "nbformat": 4,
 "nbformat_minor": 2
}
