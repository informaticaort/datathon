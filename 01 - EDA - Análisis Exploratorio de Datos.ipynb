{
 "cells": [
  {
   "cell_type": "markdown",
   "metadata": {},
   "source": [
    "# Análisis exploratorio de datos\n",
    "El análisis exploratorio de datos se conoce como EDA (exploratory data analysis).\n",
    "\n",
    "\n",
    "## Objetivos\n",
    "1. Presentar las principales librerías de Python para análisis exploratorio de datos y recursos visuales.\n",
    "2. Introducir y familiarizarse con la lectura y la exploración de datasets, permitiendo identificar límites y potencial de los datos así como su adecuación para el análisis.\n",
    "\n",
    "## Datasets\n",
    "Datos abiertos del GCBA. Ministerio de Salud. Instituto de Trasplantes de la Ciudad de Buenos Aires. Los descargamos de [aquí]('https://data.buenosaires.gob.ar/dataset/manifestaciones-a-la-donacion-para-trasplantes').\n",
    "\n",
    "**Manifestaciones a la donación para trasplantes**\n",
    "Información correspondiente a la Campaña de Promoción “Hoy también elegís ser donante de órganos” organizada por el Instituto de Trasplante de la Ciudad de Buenos Aires en el marco de la jornada electoral **PASO 2017** dando cumplimiento a la Ley 2508/07. Se realizó en 62 establecimientos autorizados por la Justicia Electoral de la Ciudad de Buenos Aires.\n",
    "\n",
    "1. *Manifestaciones a la donación para trasplantes*: personas que decidieron sobre la donación de órganos y tejidos en la CABA durante las Elecciones PASO 2017.\n",
    "\n",
    "2. *Establecimentos - Elecciones 2017*: ubicación de los establecimientos autorizados para las Elecciones Legislativas de Octubre 2017."
   ]
  },
  {
   "cell_type": "markdown",
   "metadata": {},
   "source": [
    "Para manejar y obtener información de los datasets, necesitaremos importar algunas librerías, que se agregan a la ya mencionada Pandas. Son: __Numpy, Scipy y Seaborn__. La referencia a las mismas podés encontrarla en el README del repositorio"
   ]
  },
  {
   "cell_type": "code",
   "execution_count": 6,
   "metadata": {},
   "outputs": [],
   "source": [
    "#importamos las librerias con las que trabajaremos\n",
    "import numpy as np\n",
    "from scipy import stats\n",
    "\n",
    "import pandas as pd\n",
    "import seaborn as sns"
   ]
  },
  {
   "cell_type": "markdown",
   "metadata": {},
   "source": [
    "### Personas que se expresaron frente a la donación de órganos\n"
   ]
  },
  {
   "cell_type": "code",
   "execution_count": 11,
   "metadata": {},
   "outputs": [],
   "source": [
    "# este bloque es exclusivo para trabajar en COLAB!\n",
    "# se habilita un botón que tenés que pulsar para seleccionar tu archivo de un directorio local\n",
    "\n",
    "#from google.colab import files\n",
    "#files.upload()"
   ]
  },
  {
   "cell_type": "markdown",
   "metadata": {},
   "source": [
    "Pandas contiene un método llamado `read_csv()`, que enviando como string una dirección de un archivo csv, levanta automáticamente todos los datos de ese archivo en un Dataframe"
   ]
  },
  {
   "cell_type": "code",
   "execution_count": 12,
   "metadata": {},
   "outputs": [
    {
     "data": {
      "text/html": [
       "<div>\n",
       "<style scoped>\n",
       "    .dataframe tbody tr th:only-of-type {\n",
       "        vertical-align: middle;\n",
       "    }\n",
       "\n",
       "    .dataframe tbody tr th {\n",
       "        vertical-align: top;\n",
       "    }\n",
       "\n",
       "    .dataframe thead th {\n",
       "        text-align: right;\n",
       "    }\n",
       "</style>\n",
       "<table border=\"1\" class=\"dataframe\">\n",
       "  <thead>\n",
       "    <tr style=\"text-align: right;\">\n",
       "      <th></th>\n",
       "      <th>NACIONALIDAD</th>\n",
       "      <th>SEXO</th>\n",
       "      <th>EDAD</th>\n",
       "      <th>CONSENTIMIENTO</th>\n",
       "      <th>CUALQUIER_ORGANO</th>\n",
       "      <th>CUALES_NO</th>\n",
       "      <th>TRASPLANTE</th>\n",
       "      <th>INVESTIGACION</th>\n",
       "      <th>COMUNA</th>\n",
       "    </tr>\n",
       "  </thead>\n",
       "  <tbody>\n",
       "    <tr>\n",
       "      <th>0</th>\n",
       "      <td>ARGENTINA</td>\n",
       "      <td>F</td>\n",
       "      <td>40</td>\n",
       "      <td>SI</td>\n",
       "      <td>SI</td>\n",
       "      <td>NaN</td>\n",
       "      <td>SI</td>\n",
       "      <td>SI</td>\n",
       "      <td>2</td>\n",
       "    </tr>\n",
       "    <tr>\n",
       "      <th>1</th>\n",
       "      <td>ARGENTINA</td>\n",
       "      <td>M</td>\n",
       "      <td>31</td>\n",
       "      <td>SI</td>\n",
       "      <td>SI</td>\n",
       "      <td>NaN</td>\n",
       "      <td>SI</td>\n",
       "      <td>NO</td>\n",
       "      <td>2</td>\n",
       "    </tr>\n",
       "    <tr>\n",
       "      <th>2</th>\n",
       "      <td>ARGENTINA</td>\n",
       "      <td>F</td>\n",
       "      <td>41</td>\n",
       "      <td>SI</td>\n",
       "      <td>SI</td>\n",
       "      <td>NaN</td>\n",
       "      <td>SI</td>\n",
       "      <td>SI</td>\n",
       "      <td>2</td>\n",
       "    </tr>\n",
       "    <tr>\n",
       "      <th>3</th>\n",
       "      <td>ARGENTINA</td>\n",
       "      <td>M</td>\n",
       "      <td>29</td>\n",
       "      <td>SI</td>\n",
       "      <td>SI</td>\n",
       "      <td>NaN</td>\n",
       "      <td>SI</td>\n",
       "      <td>NO</td>\n",
       "      <td>2</td>\n",
       "    </tr>\n",
       "    <tr>\n",
       "      <th>4</th>\n",
       "      <td>ARGENTINA</td>\n",
       "      <td>F</td>\n",
       "      <td>26</td>\n",
       "      <td>SI</td>\n",
       "      <td>SI</td>\n",
       "      <td>NaN</td>\n",
       "      <td>SI</td>\n",
       "      <td>NO</td>\n",
       "      <td>2</td>\n",
       "    </tr>\n",
       "  </tbody>\n",
       "</table>\n",
       "</div>"
      ],
      "text/plain": [
       "  NACIONALIDAD SEXO  EDAD CONSENTIMIENTO CUALQUIER_ORGANO CUALES_NO  \\\n",
       "0    ARGENTINA    F    40             SI               SI       NaN   \n",
       "1    ARGENTINA    M    31             SI               SI       NaN   \n",
       "2    ARGENTINA    F    41             SI               SI       NaN   \n",
       "3    ARGENTINA    M    29             SI               SI       NaN   \n",
       "4    ARGENTINA    F    26             SI               SI       NaN   \n",
       "\n",
       "  TRASPLANTE INVESTIGACION  COMUNA  \n",
       "0         SI            SI       2  \n",
       "1         SI            NO       2  \n",
       "2         SI            SI       2  \n",
       "3         SI            NO       2  \n",
       "4         SI            NO       2  "
      ]
     },
     "execution_count": 12,
     "metadata": {},
     "output_type": "execute_result"
    }
   ],
   "source": [
    "# cargamos el dataset, instanciándolo para poder referenciarlo luego\n",
    "data = pd.read_csv('datasets/manifestaciones-a-la-donacion-para-trasplantes.csv', sep=';')\n",
    "\n",
    "# visualizamos que se haya cargado bien\n",
    "data.head()"
   ]
  },
  {
   "cell_type": "code",
   "execution_count": 13,
   "metadata": {},
   "outputs": [
    {
     "name": "stdout",
     "output_type": "stream",
     "text": [
      "<class 'pandas.core.frame.DataFrame'>\n",
      "RangeIndex: 1502 entries, 0 to 1501\n",
      "Data columns (total 9 columns):\n",
      "NACIONALIDAD        1502 non-null object\n",
      "SEXO                1502 non-null object\n",
      "EDAD                1502 non-null int64\n",
      "CONSENTIMIENTO      1502 non-null object\n",
      "CUALQUIER_ORGANO    1502 non-null object\n",
      "CUALES_NO           14 non-null object\n",
      "TRASPLANTE          1502 non-null object\n",
      "INVESTIGACION       1502 non-null object\n",
      "COMUNA              1502 non-null int64\n",
      "dtypes: int64(2), object(7)\n",
      "memory usage: 64.6+ KB\n"
     ]
    }
   ],
   "source": [
    "# chequamos dimensiones, estructura, contenido\n",
    "data.info()"
   ]
  },
  {
   "cell_type": "markdown",
   "metadata": {},
   "source": [
    "Según `.info()`:\n",
    "* ¿Cómo identificarías si hay datos vacíos?\n",
    "* ¿Podés decir que el dataset está bien organizado? ¿Por qué?\n",
    "* ¿Eliminarías alguna fila o alguna columna?\n",
    "* ¿Transformarías algún dato? \n",
    "* ¿Ya podrías analizarlo?\n",
    "* Observando el dataset (su estructura, el nombre de las columnas, características de las respuestas, etc.), ¿cómo lo caracterizarías? ¿qué tipo de preguntas podrías responder?"
   ]
  },
  {
   "cell_type": "code",
   "execution_count": 14,
   "metadata": {},
   "outputs": [
    {
     "data": {
      "text/html": [
       "<div>\n",
       "<style scoped>\n",
       "    .dataframe tbody tr th:only-of-type {\n",
       "        vertical-align: middle;\n",
       "    }\n",
       "\n",
       "    .dataframe tbody tr th {\n",
       "        vertical-align: top;\n",
       "    }\n",
       "\n",
       "    .dataframe thead th {\n",
       "        text-align: right;\n",
       "    }\n",
       "</style>\n",
       "<table border=\"1\" class=\"dataframe\">\n",
       "  <thead>\n",
       "    <tr style=\"text-align: right;\">\n",
       "      <th></th>\n",
       "      <th>EDAD</th>\n",
       "      <th>COMUNA</th>\n",
       "    </tr>\n",
       "  </thead>\n",
       "  <tbody>\n",
       "    <tr>\n",
       "      <th>count</th>\n",
       "      <td>1502.000000</td>\n",
       "      <td>1502.000000</td>\n",
       "    </tr>\n",
       "    <tr>\n",
       "      <th>mean</th>\n",
       "      <td>42.914780</td>\n",
       "      <td>8.032623</td>\n",
       "    </tr>\n",
       "    <tr>\n",
       "      <th>std</th>\n",
       "      <td>15.259494</td>\n",
       "      <td>4.407416</td>\n",
       "    </tr>\n",
       "    <tr>\n",
       "      <th>min</th>\n",
       "      <td>18.000000</td>\n",
       "      <td>1.000000</td>\n",
       "    </tr>\n",
       "    <tr>\n",
       "      <th>25%</th>\n",
       "      <td>30.000000</td>\n",
       "      <td>4.000000</td>\n",
       "    </tr>\n",
       "    <tr>\n",
       "      <th>50%</th>\n",
       "      <td>41.000000</td>\n",
       "      <td>8.000000</td>\n",
       "    </tr>\n",
       "    <tr>\n",
       "      <th>75%</th>\n",
       "      <td>54.000000</td>\n",
       "      <td>12.000000</td>\n",
       "    </tr>\n",
       "    <tr>\n",
       "      <th>max</th>\n",
       "      <td>99.000000</td>\n",
       "      <td>15.000000</td>\n",
       "    </tr>\n",
       "  </tbody>\n",
       "</table>\n",
       "</div>"
      ],
      "text/plain": [
       "              EDAD       COMUNA\n",
       "count  1502.000000  1502.000000\n",
       "mean     42.914780     8.032623\n",
       "std      15.259494     4.407416\n",
       "min      18.000000     1.000000\n",
       "25%      30.000000     4.000000\n",
       "50%      41.000000     8.000000\n",
       "75%      54.000000    12.000000\n",
       "max      99.000000    15.000000"
      ]
     },
     "execution_count": 14,
     "metadata": {},
     "output_type": "execute_result"
    }
   ],
   "source": [
    "# qué hace .describe()? \n",
    "# qué tipos de datos lee?\n",
    "data.describe()"
   ]
  },
  {
   "cell_type": "code",
   "execution_count": 31,
   "metadata": {},
   "outputs": [
    {
     "data": {
      "text/plain": [
       "0    True\n",
       "1    True\n",
       "2    True\n",
       "3    True\n",
       "4    True\n",
       "Name: CONSENTIMIENTO, dtype: bool"
      ]
     },
     "execution_count": 31,
     "metadata": {},
     "output_type": "execute_result"
    }
   ],
   "source": [
    "# esta expresión genera un booleano sobre la serie/variable/columna que le pasamos\n",
    "lista=data['CONSENTIMIENTO']=='SI'\n",
    "lista.head(5) #visualizar registros"
   ]
  },
  {
   "cell_type": "code",
   "execution_count": 33,
   "metadata": {},
   "outputs": [
    {
     "data": {
      "text/plain": [
       "530     SI\n",
       "621     SI\n",
       "1068    SI\n",
       "1399    SI\n",
       "1424    SI\n",
       "Name: CONSENTIMIENTO, dtype: object"
      ]
     },
     "execution_count": 33,
     "metadata": {},
     "output_type": "execute_result"
    }
   ],
   "source": [
    "# empleamos la condición de arriba para seleccionar aquellos casos/registros/filas que cumplan con esa condición\n",
    "# aquí hacemos la selección sobre la misma columna\n",
    "# alternativamente se podría utilizar otra columna o el dataset completo, depende de lo que busquemos identificar!\n",
    "data['CONSENTIMIENTO'][data['CONSENTIMIENTO']=='SI'].sample(5)"
   ]
  },
  {
   "cell_type": "markdown",
   "metadata": {},
   "source": [
    "Como vimos, las expresiones `.head()` y `.sample()` obtienen una cantidad limitada de los registros que figuran en _data_. Head retorna los primeros N elementos de data, mientras que sample retorna una cantidad de elementos de manera aleatoria"
   ]
  },
  {
   "cell_type": "markdown",
   "metadata": {},
   "source": [
    "Con la función built in `.count()` retorna la cantidad de registros que tiene un Dataframe"
   ]
  },
  {
   "cell_type": "code",
   "execution_count": 35,
   "metadata": {},
   "outputs": [
    {
     "data": {
      "text/plain": [
       "1486"
      ]
     },
     "execution_count": 35,
     "metadata": {},
     "output_type": "execute_result"
    }
   ],
   "source": [
    "data['CONSENTIMIENTO'][data['CONSENTIMIENTO']=='SI'].count()"
   ]
  },
  {
   "cell_type": "code",
   "execution_count": 36,
   "metadata": {},
   "outputs": [
    {
     "name": "stdout",
     "output_type": "stream",
     "text": [
      "porcentaje de donantes:  98.93\n"
     ]
    }
   ],
   "source": [
    "# aquí utilizamos esa construcción para contar respuestas afirmativas y negativas, guardando el resultado en memoria\n",
    "donan = data['CONSENTIMIENTO'][data['CONSENTIMIENTO']=='SI'].count()\n",
    "no_donan = data['CONSENTIMIENTO'][data['CONSENTIMIENTO']!='SI'].count()\n",
    "\n",
    "# con ello, realizamos una operación que resuma la información\n",
    "print('porcentaje de donantes: ', round(donan/len(data)*100,2))"
   ]
  },
  {
   "cell_type": "code",
   "execution_count": 37,
   "metadata": {},
   "outputs": [
    {
     "data": {
      "text/plain": [
       "30"
      ]
     },
     "execution_count": 37,
     "metadata": {},
     "output_type": "execute_result"
    }
   ],
   "source": [
    "data['CUALQUIER_ORGANO'][data['CUALQUIER_ORGANO']!='SI'].count()"
   ]
  },
  {
   "cell_type": "code",
   "execution_count": 38,
   "metadata": {},
   "outputs": [
    {
     "data": {
      "text/plain": [
       "59             HIGADO-CORNEAS\n",
       "233      RIÑON-HIGADO-CORNEAS\n",
       "234              HIGADO-RIÑON\n",
       "326                      OJOS\n",
       "432                   CORNEAS\n",
       "433       CORNEAS-PIEL-HUESOS\n",
       "528                   CORNEAS\n",
       "529       CORNEAS-PIEL-HUESOS\n",
       "648       HIGADO-RIÑON-PULMON\n",
       "883     RIÑON-CORNEAS-CORAZON\n",
       "914               PIEL-HUESOS\n",
       "1002                  TEJIDOS\n",
       "1013                     PIEL\n",
       "1434                  CORNEAS\n",
       "Name: CUALES_NO, dtype: object"
      ]
     },
     "execution_count": 38,
     "metadata": {},
     "output_type": "execute_result"
    }
   ],
   "source": [
    "# .notnull() también opera como un booleano\n",
    "# con la misma lógica que antes, podemos seleccionar aquellas filas cuya respuesta presenta alguna especificación\n",
    "data['CUALES_NO'][data['CUALES_NO'].notnull()]"
   ]
  },
  {
   "cell_type": "code",
   "execution_count": 39,
   "metadata": {},
   "outputs": [
    {
     "data": {
      "text/plain": [
       "82      True\n",
       "83      True\n",
       "96      True\n",
       "119     True\n",
       "120     True\n",
       "121     True\n",
       "122     True\n",
       "132     True\n",
       "133     True\n",
       "167     True\n",
       "556     True\n",
       "1371    True\n",
       "1381    True\n",
       "1382    True\n",
       "1383    True\n",
       "1388    True\n",
       "dtype: bool"
      ]
     },
     "execution_count": 39,
     "metadata": {},
     "output_type": "execute_result"
    }
   ],
   "source": [
    "# vemos que hay 16 personas que no dieron consentimiento para donación\n",
    "# también hay 16 que no aceptaron donar para trasplante\n",
    "# serán los mismos? qué podés decir a partir de este output?\n",
    "data['TRASPLANTE'][data['TRASPLANTE']!='SI'] == data['CONSENTIMIENTO'][data['CONSENTIMIENTO']!='SI']"
   ]
  },
  {
   "cell_type": "code",
   "execution_count": 40,
   "metadata": {},
   "outputs": [
    {
     "data": {
      "text/plain": [
       "909"
      ]
     },
     "execution_count": 40,
     "metadata": {},
     "output_type": "execute_result"
    }
   ],
   "source": [
    "data['INVESTIGACION'][data['INVESTIGACION']!='SI'].count()"
   ]
  },
  {
   "cell_type": "code",
   "execution_count": null,
   "metadata": {},
   "outputs": [],
   "source": []
  }
 ],
 "metadata": {
  "kernelspec": {
   "display_name": "Python 3",
   "language": "python",
   "name": "python3"
  },
  "language_info": {
   "codemirror_mode": {
    "name": "ipython",
    "version": 3
   },
   "file_extension": ".py",
   "mimetype": "text/x-python",
   "name": "python",
   "nbconvert_exporter": "python",
   "pygments_lexer": "ipython3",
   "version": "3.7.2"
  }
 },
 "nbformat": 4,
 "nbformat_minor": 2
}
