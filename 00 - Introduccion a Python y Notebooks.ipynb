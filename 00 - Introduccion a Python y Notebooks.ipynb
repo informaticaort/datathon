{
 "cells": [
  {
   "cell_type": "markdown",
   "metadata": {},
   "source": [
    "<div style=\"height:70px;margin:0 auto; width:60%;\"><h1>Primeros pasos en Python<img style=\"width:200px;float:right\" src=\"imgs/logo.jpg\"/></div>\n",
    "\n",
    "## Objetivos\n",
    "1. Presentar el entorno de trabajo: Jupyter Notebooks, en este caso, en Colaboratory.\n",
    "2. Mediante la introducción de algunos elementos nativos de Python, brindar ejemplos de programación orientada a objetos, con clases pre-definidas y, conforme sus propiedades específicos, denotan métodos característicos.\n",
    "3. Introducir la lógica de los iteradores y mecanismos de excepción.\n",
    "\n",
    "## Secciones\n",
    "Elementos y métodos asociados \n",
    " * Listas **[** 0, 1, ... i, ... n **]**\n",
    " * Tuplas **(** 0, 1, ... i, ... n **)**\n",
    " * Diccionarios **{** key : value, ..... letras : [ a, b, ... z ] **}**\n",
    " \n",
    " [Aquí](http://sthurlow.com/python/lesson06/) podés leer más sobre estos elementos.\n",
    "\n",
    "Temas transversales\n",
    "* Indexación\n",
    "* Funciones* built-in*\n",
    "* Iteradores (loops y listas por comprensión)\n",
    "* Excepciones (condiciones validadas con booleanos)\n",
    "\n",
    "## Notebooks y su uso\n",
    "\n",
    "Un notebook es un documento que se edita a través de un navegador web, y cuyo objetivo es alojar código en lenguaje Python y elementos web, que se mostrarán y podrán ser exportados en un mismo archivo."
   ]
  },
  {
   "cell_type": "code",
   "execution_count": null,
   "metadata": {},
   "outputs": [],
   "source": []
  }
 ],
 "metadata": {
  "kernelspec": {
   "display_name": "Python 3",
   "language": "python",
   "name": "python3"
  },
  "language_info": {
   "codemirror_mode": {
    "name": "ipython",
    "version": 3
   },
   "file_extension": ".py",
   "mimetype": "text/x-python",
   "name": "python",
   "nbconvert_exporter": "python",
   "pygments_lexer": "ipython3",
   "version": "3.7.2"
  }
 },
 "nbformat": 4,
 "nbformat_minor": 2
}
