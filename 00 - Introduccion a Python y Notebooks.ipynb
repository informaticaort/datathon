{
 "cells": [
  {
   "cell_type": "markdown",
   "metadata": {},
   "source": [
    "<div style=\"height:70px;margin:0 auto; width:60%;\"><h1>Primeros pasos en Python<img style=\"width:200px;float:right\" src=\"imgs/logo.jpg\"/></div>\n",
    "\n",
    "## Objetivos\n",
    "1. Presentar el entorno de trabajo: Jupyter Notebooks, en este caso, en Colaboratory.\n",
    "2. Mediante la introducción de algunos elementos nativos de Python, brindar ejemplos de programación orientada a objetos, con clases pre-definidas y, conforme sus propiedades específicos, denotan métodos característicos.\n",
    "3. Introducir la lógica de los iteradores y mecanismos de excepción.\n",
    "\n",
    "## Secciones\n",
    "Elementos y métodos asociados \n",
    " * Listas **[** 0, 1, ... i, ... n **]**\n",
    " * Tuplas **(** 0, 1, ... i, ... n **)**\n",
    " * Diccionarios **{** key : value, ..... letras : [ a, b, ... z ] **}**\n",
    " \n",
    " [Aquí](http://sthurlow.com/python/lesson06/) podés leer más sobre estos elementos.\n",
    "\n",
    "Temas transversales\n",
    "* Indexación\n",
    "* Funciones* built-in*\n",
    "* Iteradores (loops y listas por comprensión)\n",
    "* Excepciones (condiciones validadas con booleanos)\n",
    "\n",
    "## Instalación de Python y Jupyter\n",
    "\n",
    "Para poder instalar Python en Windows o Mac, hay que instalar el cliente Python desde su [web oficial](https://www.python.org/downloads/), en la configuración añadir Python al PATH\n",
    "\n",
    "Para instalar sobre la instancia de Python lo que es Jupyter, existe para Windows un archivo .bat en este repositorio en la carpeta \"utiles\" \"llamado installjupyter.bat\". Si querés installar Jupyter manualmente en la consola del sistema operativo, podés hacerlo de la siguiente forma: \n",
    "\n",
    "__python3 -m pip install --upgrade pip__\n",
    "\n",
    "__python3 -m pip install jupyter__\n",
    "\n",
    "Luego, correr Jupyter de la siguiente forma: \n",
    "\n",
    "__jupyter notebook__\n",
    "\n",
    "Para desarrollar, utilizaremos la web app [Jupyter Notebook](https://jupyter.org/), un entorno open-source que permite entre otras cosas crear y compartir documentos que contienen entre otras cosas, código en vivo, ecuaciones y visualizaciones de datos.\n",
    "\n",
    "## Qué es un Notebook (Cuaderno) y cómo es su uso básico\n",
    "\n",
    "Un notebook es un documento que se edita a través de un navegador web, y cuyo objetivo es alojar código (en este caso en lenguaje Python y elementos web, que se mostrarán y podrán ser exportados en un mismo archivo.\n",
    "\n",
    "Los cuadernos tienen dos tipos de celdas, de código y de texto. La celda que estás leyendo es una celda de texto escrita con Markdown, un lenguaje de marcado parecido al HTML.\n",
    "\n",
    "Con *Shift* + *Enter* podés ejecutar cada línea o bloque de código.\n",
    " \n",
    " Con *Ctrl* + *M* + *M* podés transformar una celda de código en *markdown*. Para revertir esa transormación, usamos *Ctrl* + *M* + *Y*. Para conocer las distintas opciones de formato markdown en Jupyter, visita este [link](https://medium.com/ibm-data-science-experience/markdown-for-jupyter-notebooks-cheatsheet-386c05aeebed)\n",
    "  \n",
    "Podés buscar lista completa de `keyboard shutcuts` en las Jupyter.\n",
    "\n",
    "## Programación en Python\n",
    "\n",
    "### 0) Salidas por consola\n",
    "\n",
    "Para mostrar algo por la salida de Jupyter basta con poner esto: "
   ]
  },
  {
   "cell_type": "code",
   "execution_count": 1,
   "metadata": {},
   "outputs": [
    {
     "data": {
      "text/plain": [
       "5"
      ]
     },
     "execution_count": 1,
     "metadata": {},
     "output_type": "execute_result"
    }
   ],
   "source": [
    "5"
   ]
  },
  {
   "cell_type": "markdown",
   "metadata": {},
   "source": [
    "Para realizar una operación matemática basta con realizar la misma en la consola"
   ]
  },
  {
   "cell_type": "code",
   "execution_count": 2,
   "metadata": {},
   "outputs": [
    {
     "data": {
      "text/plain": [
       "210"
      ]
     },
     "execution_count": 2,
     "metadata": {},
     "output_type": "execute_result"
    }
   ],
   "source": [
    "5*6*7"
   ]
  },
  {
   "cell_type": "markdown",
   "metadata": {},
   "source": [
    "Si queremos guardar el valor de resultado, instanciamos una variable"
   ]
  },
  {
   "cell_type": "code",
   "execution_count": 3,
   "metadata": {},
   "outputs": [
    {
     "data": {
      "text/plain": [
       "210"
      ]
     },
     "execution_count": 3,
     "metadata": {},
     "output_type": "execute_result"
    }
   ],
   "source": [
    "# necesitamos crear una instancia para el resultado de 5*6*7\n",
    "# cómo harías?\n",
    "var = 5 * 6 * 7\n",
    "var # si ubicamos la variable 'suelta' en una línea de código vemos su valor por consola."
   ]
  },
  {
   "cell_type": "markdown",
   "metadata": {},
   "source": [
    "### 1) Listas [ ] \n",
    "\n",
    "Una *lista* es una colección **ordenada y mutable** de elementos, no necesariamente del mismo tipo. El orden está dado por una **indexación implícita** que se **actualiza** ante cambio en el orden, insertar un elemento o eliminarlo. \n",
    "\n",
    "En principio, vamos a programar con una lista que contienen elementos icónicos del **labo de info**.\n",
    "\n",
    "Ah! Recordá que las cadenas de texto [*string*] van entre comillas!"
   ]
  },
  {
   "cell_type": "code",
   "execution_count": 4,
   "metadata": {},
   "outputs": [],
   "source": [
    "# creamos una lista de elementos de tipo string\n",
    "labo = ['compu', 'aire', 'luces', 'teclados', 'buena onda','info']"
   ]
  },
  {
   "cell_type": "code",
   "execution_count": 5,
   "metadata": {},
   "outputs": [
    {
     "ename": "NameError",
     "evalue": "name 'verano' is not defined",
     "output_type": "error",
     "traceback": [
      "\u001b[1;31m---------------------------------------------------------------------------\u001b[0m",
      "\u001b[1;31mNameError\u001b[0m                                 Traceback (most recent call last)",
      "\u001b[1;32m<ipython-input-5-fbe95645336c>\u001b[0m in \u001b[0;36m<module>\u001b[1;34m\u001b[0m\n\u001b[0;32m      1\u001b[0m \u001b[1;31m# averiguamos la extensión de la lista que creamos previamente\u001b[0m\u001b[1;33m\u001b[0m\u001b[1;33m\u001b[0m\u001b[1;33m\u001b[0m\u001b[0m\n\u001b[1;32m----> 2\u001b[1;33m \u001b[0mlen\u001b[0m\u001b[1;33m(\u001b[0m\u001b[0mverano\u001b[0m\u001b[1;33m)\u001b[0m\u001b[1;33m\u001b[0m\u001b[1;33m\u001b[0m\u001b[0m\n\u001b[0m",
      "\u001b[1;31mNameError\u001b[0m: name 'verano' is not defined"
     ]
    }
   ],
   "source": [
    "# averiguamos la extensión de la lista que creamos previamente\n",
    "len(labo)"
   ]
  },
  {
   "cell_type": "code",
   "execution_count": null,
   "metadata": {},
   "outputs": [],
   "source": [
    "# ahora vemos la extensión de cada elemento implementando un for. Recordamos que un for es una repetitiva exacta!\n",
    "for i in labo:\n",
    "    print(i,': ', len(i), 'caracteres')"
   ]
  },
  {
   "cell_type": "markdown",
   "metadata": {},
   "source": [
    "Python cuenta con una serie de índices __implícitos__ que podemos invocar."
   ]
  },
  {
   "cell_type": "code",
   "execution_count": null,
   "metadata": {},
   "outputs": [],
   "source": [
    "# invoca el último elemento de la lista\n",
    "labo[-1]"
   ]
  },
  {
   "cell_type": "code",
   "execution_count": null,
   "metadata": {},
   "outputs": [],
   "source": [
    "# invoca el segundo elemento de la lista\n",
    "labo[1] # recordá que el conteo arranca en 0!"
   ]
  },
  {
   "cell_type": "code",
   "execution_count": null,
   "metadata": {},
   "outputs": [],
   "source": [
    "# cuando trabajamos con índices implícitos,\n",
    "# los intervalos son semiabiertos a derecha\n",
    "labo[2:4]"
   ]
  },
  {
   "cell_type": "code",
   "execution_count": null,
   "metadata": {},
   "outputs": [],
   "source": [
    "# también podemos especificar si queremos saltearnos algunos elementos\n",
    "# [inicio:final:steps]\n",
    "labo[::2]"
   ]
  },
  {
   "cell_type": "code",
   "execution_count": null,
   "metadata": {},
   "outputs": [],
   "source": [
    "# podemos ver la enumeración de elementos de la lista\n",
    "# para visualizarlo conviene que encapsulemos al iterador en una lista\n",
    "list(enumerate(labo))"
   ]
  },
  {
   "cell_type": "markdown",
   "metadata": {},
   "source": [
    "Operaciones de __agregación, modificación y eliminación__ en la lista:"
   ]
  },
  {
   "cell_type": "code",
   "execution_count": null,
   "metadata": {},
   "outputs": [],
   "source": [
    "# añadimos gente al labo\n",
    "labo.append('gente')\n",
    "labo"
   ]
  },
  {
   "cell_type": "code",
   "execution_count": null,
   "metadata": {},
   "outputs": [],
   "source": [
    "labo[0] = 'máquinas' \n",
    "labo\n",
    "# qué sucedió en la lista?"
   ]
  },
  {
   "cell_type": "code",
   "execution_count": null,
   "metadata": {},
   "outputs": [],
   "source": [
    "# si queremos eliminar el elemento 'gente' de la lista, utilizamos pop\n",
    "labo.pop(-1)"
   ]
  },
  {
   "cell_type": "code",
   "execution_count": null,
   "metadata": {},
   "outputs": [],
   "source": [
    "labo"
   ]
  },
  {
   "cell_type": "markdown",
   "metadata": {},
   "source": [
    "'gente' ya no forma parte de la lista labo"
   ]
  },
  {
   "cell_type": "markdown",
   "metadata": {},
   "source": [
    "Para insertar un elemento en cierto lugar de la lista, en vez de llamar a append, se usa insert"
   ]
  },
  {
   "cell_type": "code",
   "execution_count": null,
   "metadata": {},
   "outputs": [],
   "source": [
    "labo.insert(0,'redes')\n",
    "labo.insert(2,'wi-fi')\n",
    "labo"
   ]
  },
  {
   "cell_type": "code",
   "execution_count": null,
   "metadata": {},
   "outputs": [],
   "source": []
  }
 ],
 "metadata": {
  "kernelspec": {
   "display_name": "Python 3",
   "language": "python",
   "name": "python3"
  },
  "language_info": {
   "codemirror_mode": {
    "name": "ipython",
    "version": 3
   },
   "file_extension": ".py",
   "mimetype": "text/x-python",
   "name": "python",
   "nbconvert_exporter": "python",
   "pygments_lexer": "ipython3",
   "version": "3.7.2"
  }
 },
 "nbformat": 4,
 "nbformat_minor": 2
}
