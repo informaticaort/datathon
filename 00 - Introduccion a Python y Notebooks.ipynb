{
 "cells": [
  {
   "cell_type": "markdown",
   "metadata": {},
   "source": [
    "<div style=\"width:90%;margin:0 auto;\">\n",
    "    <div style=\"width:50%;float:left;\">\n",
    "     <h1>Introducción a <a href=\"https://www.python.org/doc/\" target=\"_blank\">Python</a></h1>\n",
    "        <h3>Manejo de listas, tuplas y diccionarios</h3>\n",
    "    </div>\n",
    "    <div style=\"width:50%;float:right\">\n",
    "     <img style=\"width:200px;\" src=\"imgs/logo.jpg\"/>\n",
    "    </div>\n",
    "</div>"
   ]
  },
  {
   "cell_type": "markdown",
   "metadata": {},
   "source": [
    "### Objetivos"
   ]
  },
  {
   "cell_type": "markdown",
   "metadata": {},
   "source": [
    "1. Presentar el entorno de trabajo: Jupyter Notebooks, Codelabs. \n",
    "2. Mediante la introducción de algunos elementos nativos de Python, brindar ejemplos de programación orientada a objetos, con clases pre-definidas y, conforme sus propiedades específicos, denotan métodos característicos.\n",
    "3. Introducir la lógica de los iteradores y mecanismos de excepción."
   ]
  },
  {
   "cell_type": "code",
   "execution_count": null,
   "metadata": {},
   "outputs": [],
   "source": []
  },
  {
   "cell_type": "markdown",
   "metadata": {},
   "source": [
    "### Notebooks y su uso"
   ]
  },
  {
   "cell_type": "markdown",
   "metadata": {},
   "source": [
    "Un notebook es un documento que se edita a través de un navegador web, y cuyo objetivo "
   ]
  },
  {
   "cell_type": "code",
   "execution_count": null,
   "metadata": {},
   "outputs": [],
   "source": []
  }
 ],
 "metadata": {
  "kernelspec": {
   "display_name": "Python 3",
   "language": "python",
   "name": "python3"
  },
  "language_info": {
   "codemirror_mode": {
    "name": "ipython",
    "version": 3
   },
   "file_extension": ".py",
   "mimetype": "text/x-python",
   "name": "python",
   "nbconvert_exporter": "python",
   "pygments_lexer": "ipython3",
   "version": "3.7.2"
  }
 },
 "nbformat": 4,
 "nbformat_minor": 2
}
