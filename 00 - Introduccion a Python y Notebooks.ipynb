{
 "cells": [
  {
   "cell_type": "markdown",
   "metadata": {},
   "source": [
    "<div style=\"height:70px;margin:0 auto; width:60%;\"><h1>Primeros pasos en Python<img style=\"width:200px;float:right\" src=\"imgs/logo.jpg\"/></div>\n",
    "\n",
    "## Objetivos\n",
    "1. Presentar el entorno de trabajo: Jupyter Notebooks, en este caso, en Colaboratory.\n",
    "2. Mediante la introducción de algunos elementos nativos de Python, brindar ejemplos de programación orientada a objetos, con clases pre-definidas y, conforme sus propiedades específicos, denotan métodos característicos.\n",
    "3. Introducir la lógica de los iteradores y mecanismos de excepción.\n",
    "\n",
    "## Secciones\n",
    "Elementos y métodos asociados \n",
    " * Listas **[** 0, 1, ... i, ... n **]**\n",
    " * Tuplas **(** 0, 1, ... i, ... n **)**\n",
    " * Diccionarios **{** key : value, ..... letras : [ a, b, ... z ] **}**\n",
    " \n",
    " [Aquí](http://sthurlow.com/python/lesson06/) podés leer más sobre estos elementos.\n",
    "\n",
    "Temas transversales\n",
    "* Indexación\n",
    "* Funciones* built-in*\n",
    "* Iteradores (loops y listas por comprensión)\n",
    "* Excepciones (condiciones validadas con booleanos)\n",
    "\n",
    "## Instalación de Python y Jupyter\n",
    "\n",
    "Para poder instalar Python en Windows o Mac, hay que instalar el cliente Python desde su [web oficial](https://www.python.org/downloads/), en la configuración añadir Python al PATH\n",
    "\n",
    "Para instalar sobre la instancia de Python lo que es Jupyter, existe para Windows un archivo .bat en este repositorio en la carpeta \"utiles\" \"llamado installjupyter.bat\". Si querés installar Jupyter manualmente en la consola del sistema operativo, podés hacerlo de la siguiente forma: \n",
    "\n",
    "__python3 -m pip install --upgrade pip__\n",
    "\n",
    "__python3 -m pip install jupyter__\n",
    "\n",
    "Luego, correr Jupyter de la siguiente forma: \n",
    "\n",
    "__jupyter notebook__\n",
    "\n",
    "Para desarrollar, utilizaremos la web app [Jupyter Notebook](https://jupyter.org/), un entorno open-source que permite entre otras cosas crear y compartir documentos que contienen entre otras cosas, código en vivo, ecuaciones y visualizaciones de datos.\n",
    "\n",
    "## Qué es un Notebook (Cuaderno) y cómo es su uso básico\n",
    "\n",
    "Un notebook es un documento que se edita a través de un navegador web, y cuyo objetivo es alojar código (en este caso en lenguaje Python y elementos web, que se mostrarán y podrán ser exportados en un mismo archivo.\n",
    "\n",
    "Los cuadernos tienen dos tipos de celdas, de código y de texto. La celda que estás leyendo es una celda de texto escrita con Markdown, un lenguaje de marcado parecido al HTML.\n",
    "\n",
    "Con *Shift* + *Enter* podés ejecutar cada línea o bloque de código.\n",
    " \n",
    " Con *Ctrl* + *M* + *M* podés transformar una celda de código en *markdown*. Para revertir esa transormación, usamos *Ctrl* + *M* + *Y*.\n",
    "  \n",
    "Podés buscar lista completa de `keyboard shutcuts` en las Jupyter."
   ]
  },
  {
   "cell_type": "code",
   "execution_count": null,
   "metadata": {},
   "outputs": [],
   "source": []
  }
 ],
 "metadata": {
  "kernelspec": {
   "display_name": "Python 3",
   "language": "python",
   "name": "python3"
  },
  "language_info": {
   "codemirror_mode": {
    "name": "ipython",
    "version": 3
   },
   "file_extension": ".py",
   "mimetype": "text/x-python",
   "name": "python",
   "nbconvert_exporter": "python",
   "pygments_lexer": "ipython3",
   "version": "3.7.2"
  }
 },
 "nbformat": 4,
 "nbformat_minor": 2
}
