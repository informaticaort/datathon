{
 "cells": [
  {
   "cell_type": "markdown",
   "metadata": {},
   "source": [
    "<div style=\"height:70px;margin:0 auto; width:60%;\"><h1>Primeros pasos en Python<img style=\"width:200px;float:right\" src=\"imgs/logo.jpg\"/></div>\n",
    "\n",
    "## Objetivos\n",
    "1. Presentar el entorno de trabajo: Jupyter Notebooks, en este caso, en Colaboratory.\n",
    "2. Mediante la introducción de algunos elementos nativos de Python, brindar ejemplos de programación orientada a objetos, con clases pre-definidas y, conforme sus propiedades específicos, denotan métodos característicos.\n",
    "3. Introducir la lógica de los iteradores y mecanismos de excepción.\n",
    "\n",
    "## Secciones\n",
    "Elementos y métodos asociados \n",
    " * Listas **[** 0, 1, ... i, ... n **]**\n",
    " * Tuplas **(** 0, 1, ... i, ... n **)**\n",
    " * Diccionarios **{** key : value, ..... letras : [ a, b, ... z ] **}**\n",
    " \n",
    " [Aquí](http://sthurlow.com/python/lesson06/) podés leer más sobre estos elementos.\n",
    "\n",
    "Temas transversales\n",
    "* Indexación\n",
    "* Funciones* built-in*\n",
    "* Iteradores (loops y listas por comprensión)\n",
    "* Excepciones (condiciones validadas con booleanos)\n",
    "\n",
    "## Instalación de Python y Jupyter\n",
    "\n",
    "Para poder instalar Python en Windows o Mac, hay que instalar el cliente Python desde su [web oficial](https://www.python.org/downloads/), en la configuración añadir Python al PATH\n",
    "\n",
    "Para instalar sobre la instancia de Python lo que es Jupyter, existe para Windows un archivo .bat en este repositorio en la carpeta \"utiles\" \"llamado installjupyter.bat\". Si querés installar Jupyter manualmente en la consola del sistema operativo, podés hacerlo de la siguiente forma: \n",
    "\n",
    "__python3 -m pip install --upgrade pip__\n",
    "\n",
    "__python3 -m pip install jupyter__\n",
    "\n",
    "Luego, correr Jupyter de la siguiente forma: \n",
    "\n",
    "__jupyter notebook__\n",
    "\n",
    "Para desarrollar, utilizaremos la web app [Jupyter Notebook](https://jupyter.org/), un entorno open-source que permite entre otras cosas crear y compartir documentos que contienen entre otras cosas, código en vivo, ecuaciones y visualizaciones de datos.\n",
    "\n",
    "## Qué es un Notebook (Cuaderno) y cómo es su uso básico\n",
    "\n",
    "Un notebook es un documento que se edita a través de un navegador web, y cuyo objetivo es alojar código (en este caso en lenguaje Python y elementos web, que se mostrarán y podrán ser exportados en un mismo archivo.\n",
    "\n",
    "Los cuadernos tienen dos tipos de celdas, de código y de texto. La celda que estás leyendo es una celda de texto escrita con Markdown, un lenguaje de marcado parecido al HTML.\n",
    "\n",
    "Con *Shift* + *Enter* podés ejecutar cada línea o bloque de código.\n",
    " \n",
    " Con *Ctrl* + *M* + *M* podés transformar una celda de código en *markdown*. Para revertir esa transormación, usamos *Ctrl* + *M* + *Y*. Para conocer las distintas opciones de formato markdown en Jupyter, visita este [link](https://medium.com/ibm-data-science-experience/markdown-for-jupyter-notebooks-cheatsheet-386c05aeebed)\n",
    "  \n",
    "Podés buscar lista completa de `keyboard shutcuts` en las Jupyter.\n",
    "\n",
    "## Programación en Python\n",
    "\n",
    "### 0) Salidas por consola\n",
    "\n",
    "Para mostrar algo por la salida de Jupyter basta con poner esto: "
   ]
  },
  {
   "cell_type": "code",
   "execution_count": 1,
   "metadata": {},
   "outputs": [
    {
     "data": {
      "text/plain": [
       "5"
      ]
     },
     "execution_count": 1,
     "metadata": {},
     "output_type": "execute_result"
    }
   ],
   "source": [
    "5"
   ]
  },
  {
   "cell_type": "markdown",
   "metadata": {},
   "source": [
    "Para realizar una operación matemática basta con realizar la misma en la consola"
   ]
  },
  {
   "cell_type": "code",
   "execution_count": 2,
   "metadata": {},
   "outputs": [
    {
     "data": {
      "text/plain": [
       "210"
      ]
     },
     "execution_count": 2,
     "metadata": {},
     "output_type": "execute_result"
    }
   ],
   "source": [
    "5*6*7"
   ]
  },
  {
   "cell_type": "markdown",
   "metadata": {},
   "source": [
    "Si queremos guardar el valor de resultado, instanciamos una variable"
   ]
  },
  {
   "cell_type": "code",
   "execution_count": 3,
   "metadata": {},
   "outputs": [
    {
     "data": {
      "text/plain": [
       "210"
      ]
     },
     "execution_count": 3,
     "metadata": {},
     "output_type": "execute_result"
    }
   ],
   "source": [
    "# necesitamos crear una instancia para el resultado de 5*6*7\n",
    "# cómo harías?\n",
    "var = 5 * 6 * 7\n",
    "var # si ubicamos la variable 'suelta' en una línea de código vemos su valor por consola."
   ]
  },
  {
   "cell_type": "markdown",
   "metadata": {},
   "source": [
    "### 1) Listas [ ] \n",
    "\n",
    "Una *lista* es una colección **ordenada y mutable** de elementos, no necesariamente del mismo tipo. El orden está dado por una **indexación implícita** que se **actualiza** ante cambio en el orden, insertar un elemento o eliminarlo. \n",
    "\n",
    "En principio, vamos a programar con una lista que contienen elementos icónicos del **labo de info**.\n",
    "\n",
    "Ah! Recordá que las cadenas de texto [*string*] van entre comillas!"
   ]
  },
  {
   "cell_type": "code",
   "execution_count": 4,
   "metadata": {},
   "outputs": [],
   "source": [
    "# creamos una lista de elementos de tipo string\n",
    "labo = ['compu', 'aire', 'luces', 'teclados', 'buena onda','info']"
   ]
  },
  {
   "cell_type": "code",
   "execution_count": 5,
   "metadata": {},
   "outputs": [
    {
     "data": {
      "text/plain": [
       "6"
      ]
     },
     "execution_count": 5,
     "metadata": {},
     "output_type": "execute_result"
    }
   ],
   "source": [
    "# averiguamos la extensión de la lista que creamos previamente\n",
    "len(labo)"
   ]
  },
  {
   "cell_type": "code",
   "execution_count": 6,
   "metadata": {},
   "outputs": [
    {
     "name": "stdout",
     "output_type": "stream",
     "text": [
      "compu :  5 caracteres\n",
      "aire :  4 caracteres\n",
      "luces :  5 caracteres\n",
      "teclados :  8 caracteres\n",
      "buena onda :  10 caracteres\n",
      "info :  4 caracteres\n"
     ]
    }
   ],
   "source": [
    "# ahora vemos la extensión de cada elemento implementando un for. Recordamos que un for es una repetitiva exacta!\n",
    "for i in labo:\n",
    "    print(i,': ', len(i), 'caracteres')"
   ]
  },
  {
   "cell_type": "markdown",
   "metadata": {},
   "source": [
    "Python cuenta con una serie de índices __implícitos__ que podemos invocar."
   ]
  },
  {
   "cell_type": "code",
   "execution_count": 7,
   "metadata": {},
   "outputs": [
    {
     "data": {
      "text/plain": [
       "'info'"
      ]
     },
     "execution_count": 7,
     "metadata": {},
     "output_type": "execute_result"
    }
   ],
   "source": [
    "# invoca el último elemento de la lista\n",
    "labo[-1]"
   ]
  },
  {
   "cell_type": "code",
   "execution_count": 8,
   "metadata": {},
   "outputs": [
    {
     "data": {
      "text/plain": [
       "'aire'"
      ]
     },
     "execution_count": 8,
     "metadata": {},
     "output_type": "execute_result"
    }
   ],
   "source": [
    "# invoca el segundo elemento de la lista\n",
    "labo[1] # recordá que el conteo arranca en 0!"
   ]
  },
  {
   "cell_type": "code",
   "execution_count": 9,
   "metadata": {},
   "outputs": [
    {
     "data": {
      "text/plain": [
       "['luces', 'teclados']"
      ]
     },
     "execution_count": 9,
     "metadata": {},
     "output_type": "execute_result"
    }
   ],
   "source": [
    "# cuando trabajamos con índices implícitos,\n",
    "# los intervalos son semiabiertos a derecha\n",
    "labo[2:4]"
   ]
  },
  {
   "cell_type": "code",
   "execution_count": 10,
   "metadata": {},
   "outputs": [
    {
     "data": {
      "text/plain": [
       "['compu', 'luces', 'buena onda']"
      ]
     },
     "execution_count": 10,
     "metadata": {},
     "output_type": "execute_result"
    }
   ],
   "source": [
    "# también podemos especificar si queremos saltearnos algunos elementos\n",
    "# [inicio:final:steps]\n",
    "labo[::2]"
   ]
  },
  {
   "cell_type": "code",
   "execution_count": 11,
   "metadata": {},
   "outputs": [
    {
     "data": {
      "text/plain": [
       "[(0, 'compu'),\n",
       " (1, 'aire'),\n",
       " (2, 'luces'),\n",
       " (3, 'teclados'),\n",
       " (4, 'buena onda'),\n",
       " (5, 'info')]"
      ]
     },
     "execution_count": 11,
     "metadata": {},
     "output_type": "execute_result"
    }
   ],
   "source": [
    "# podemos ver la enumeración de elementos de la lista\n",
    "# para visualizarlo conviene que encapsulemos al iterador en una lista\n",
    "list(enumerate(labo))"
   ]
  },
  {
   "cell_type": "markdown",
   "metadata": {},
   "source": [
    "Operaciones de __agregación, modificación y eliminación__ en la lista:"
   ]
  },
  {
   "cell_type": "code",
   "execution_count": 12,
   "metadata": {},
   "outputs": [
    {
     "data": {
      "text/plain": [
       "['compu', 'aire', 'luces', 'teclados', 'buena onda', 'info', 'gente']"
      ]
     },
     "execution_count": 12,
     "metadata": {},
     "output_type": "execute_result"
    }
   ],
   "source": [
    "# añadimos gente al labo\n",
    "labo.append('gente')\n",
    "labo"
   ]
  },
  {
   "cell_type": "code",
   "execution_count": 13,
   "metadata": {},
   "outputs": [
    {
     "data": {
      "text/plain": [
       "['máquinas', 'aire', 'luces', 'teclados', 'buena onda', 'info', 'gente']"
      ]
     },
     "execution_count": 13,
     "metadata": {},
     "output_type": "execute_result"
    }
   ],
   "source": [
    "labo[0] = 'máquinas' \n",
    "labo\n",
    "# qué sucedió en la lista?"
   ]
  },
  {
   "cell_type": "code",
   "execution_count": 14,
   "metadata": {},
   "outputs": [
    {
     "data": {
      "text/plain": [
       "'gente'"
      ]
     },
     "execution_count": 14,
     "metadata": {},
     "output_type": "execute_result"
    }
   ],
   "source": [
    "# si queremos eliminar el elemento 'gente' de la lista, utilizamos pop\n",
    "labo.pop(-1)"
   ]
  },
  {
   "cell_type": "code",
   "execution_count": 15,
   "metadata": {},
   "outputs": [
    {
     "data": {
      "text/plain": [
       "['máquinas', 'aire', 'luces', 'teclados', 'buena onda', 'info']"
      ]
     },
     "execution_count": 15,
     "metadata": {},
     "output_type": "execute_result"
    }
   ],
   "source": [
    "labo"
   ]
  },
  {
   "cell_type": "markdown",
   "metadata": {},
   "source": [
    "'gente' ya no forma parte de la lista labo"
   ]
  },
  {
   "cell_type": "markdown",
   "metadata": {},
   "source": [
    "Para insertar un elemento en cierto lugar de la lista, en vez de llamar a append, se usa insert"
   ]
  },
  {
   "cell_type": "code",
   "execution_count": 16,
   "metadata": {},
   "outputs": [
    {
     "data": {
      "text/plain": [
       "['redes',\n",
       " 'máquinas',\n",
       " 'wi-fi',\n",
       " 'aire',\n",
       " 'luces',\n",
       " 'teclados',\n",
       " 'buena onda',\n",
       " 'info']"
      ]
     },
     "execution_count": 16,
     "metadata": {},
     "output_type": "execute_result"
    }
   ],
   "source": [
    "labo.insert(0,'redes')\n",
    "labo.insert(2,'wi-fi')\n",
    "labo"
   ]
  },
  {
   "cell_type": "markdown",
   "metadata": {},
   "source": [
    "#### 2) Tuplas ( ) \n",
    "\n",
    "Una *tupla* es una colección **ordenada e inmutable** de elementos. Tal como la lista, sigue teniendo una indexación implícita y, por tanto, ordenada. Sin embargo, una vez creada, la tupla no tolera alteraciones, a menos que la reescribas completamente. El no admitir alteraciones, **preserva la identidad** o el contenido inicial. Asimismo es más eficiente computacionalmente hablado en términos de procesamiento.\n",
    "\n",
    "Una tupla puede no contener ningún elemento, es decir, ser una tupla vacía.\n",
    "\n",
    "En este caso, vamos a jugar con referencias a las **cumbres más altas** de cada continente."
   ]
  },
  {
   "cell_type": "code",
   "execution_count": 1,
   "metadata": {},
   "outputs": [],
   "source": [
    "# generamos listas con un ORDEN tal que \n",
    "# los primeros elementos de c/u puedan agruparse bajo un criterio, igualmente los segundos, los terceros, etc.\n",
    "# ... de qué forma leerías esta información?\n",
    "\n",
    "continentes = ['África', 'Américas', 'Antártida', 'Asia', 'Europa', 'Oceanía']\n",
    "paises = ['Tanzania', 'Argentina', '(Chile)', 'China y Nepal', 'Francia e Italia', 'Indonesia']\n",
    "cumbres = ['Kilimanjaro', 'Aconcagua', 'Maciso Vinson', 'Everest', 'Mont Blanc', 'Nemangkawi' ]\n",
    "altura = [5893, 6962, 4892, 8848, 4810, 4884]"
   ]
  },
  {
   "cell_type": "code",
   "execution_count": 2,
   "metadata": {},
   "outputs": [
    {
     "data": {
      "text/plain": [
       "<zip at 0x6269cb0>"
      ]
     },
     "execution_count": 2,
     "metadata": {},
     "output_type": "execute_result"
    }
   ],
   "source": [
    "# ZIP es un elemento iterador\n",
    "zip(continentes, cumbres, altura) "
   ]
  },
  {
   "cell_type": "code",
   "execution_count": 4,
   "metadata": {},
   "outputs": [
    {
     "data": {
      "text/plain": [
       "[('África', 'Kilimanjaro', 5893),\n",
       " ('Américas', 'Aconcagua', 6962),\n",
       " ('Antártida', 'Maciso Vinson', 4892),\n",
       " ('Asia', 'Everest', 8848),\n",
       " ('Europa', 'Mont Blanc', 4810),\n",
       " ('Oceanía', 'Nemangkawi', 4884)]"
      ]
     },
     "execution_count": 4,
     "metadata": {},
     "output_type": "execute_result"
    }
   ],
   "source": [
    "# en esta línea generamos una lista con los componentes anexados de 3 de las 4 listas declaradas previamente \n",
    "SeisCumbres = list(zip(continentes, cumbres, altura))\n",
    "SeisCumbres"
   ]
  },
  {
   "cell_type": "markdown",
   "metadata": {},
   "source": [
    "supongamos que es mejor optar por separar las Américas\n",
    "\n",
    "**clonamos** (copiamos) la lista 'SeisCumbres' para modificarla libremente y mantener un backup de los datos originales"
   ]
  },
  {
   "cell_type": "code",
   "execution_count": 5,
   "metadata": {},
   "outputs": [],
   "source": [
    "CumbresxContinente = SeisCumbres\n",
    "CumbresxContinente = SeisCumbres.copy()\n",
    "\n",
    "# usarías la primera o la segunda línea? por qué?"
   ]
  },
  {
   "cell_type": "code",
   "execution_count": 6,
   "metadata": {},
   "outputs": [],
   "source": [
    "# incorporá a CumbresxContinente ('America del Norte', 'Denali', 6168) usando .append()\n",
    "CumbresxContinente.append(('América del Norte', 'Denali', 6168))\n",
    "\n",
    "# incorporá a CumbresxContinente ('America del Norte', 'Denali', 6168) usando .insert()\n",
    "# ubicala esta tubla ordenándola alfabeticamente\n",
    "CumbresxContinente.insert(2, ('América del Norte', 'Denali', 6168))"
   ]
  },
  {
   "cell_type": "markdown",
   "metadata": {},
   "source": [
    "Veamos lo que contiene ahora la lista '_CumbresxContinente_'"
   ]
  },
  {
   "cell_type": "code",
   "execution_count": 7,
   "metadata": {},
   "outputs": [
    {
     "data": {
      "text/plain": [
       "[('África', 'Kilimanjaro', 5893),\n",
       " ('Américas', 'Aconcagua', 6962),\n",
       " ('América del Norte', 'Denali', 6168),\n",
       " ('Antártida', 'Maciso Vinson', 4892),\n",
       " ('Asia', 'Everest', 8848),\n",
       " ('Europa', 'Mont Blanc', 4810),\n",
       " ('Oceanía', 'Nemangkawi', 4884),\n",
       " ('América del Norte', 'Denali', 6168)]"
      ]
     },
     "execution_count": 7,
     "metadata": {},
     "output_type": "execute_result"
    }
   ],
   "source": [
    "CumbresxContinente"
   ]
  },
  {
   "cell_type": "code",
   "execution_count": 8,
   "metadata": {},
   "outputs": [
    {
     "data": {
      "text/plain": [
       "[(0, ('África', 'Kilimanjaro', 5893)),\n",
       " (1, ('Américas', 'Aconcagua', 6962)),\n",
       " (2, ('América del Norte', 'Denali', 6168)),\n",
       " (3, ('Antártida', 'Maciso Vinson', 4892)),\n",
       " (4, ('Asia', 'Everest', 8848)),\n",
       " (5, ('Europa', 'Mont Blanc', 4810)),\n",
       " (6, ('Oceanía', 'Nemangkawi', 4884)),\n",
       " (7, ('América del Norte', 'Denali', 6168))]"
      ]
     },
     "execution_count": 8,
     "metadata": {},
     "output_type": "execute_result"
    }
   ],
   "source": [
    "list(enumerate(CumbresxContinente))"
   ]
  },
  {
   "cell_type": "code",
   "execution_count": 9,
   "metadata": {},
   "outputs": [
    {
     "data": {
      "text/plain": [
       "[(0, ('África', 'Kilimanjaro', 5893)),\n",
       " (1, ('Américas', 'Aconcagua', 6962)),\n",
       " (2, ('Antártida', 'Maciso Vinson', 4892)),\n",
       " (3, ('Asia', 'Everest', 8848)),\n",
       " (4, ('Europa', 'Mont Blanc', 4810)),\n",
       " (5, ('Oceanía', 'Nemangkawi', 4884))]"
      ]
     },
     "execution_count": 9,
     "metadata": {},
     "output_type": "execute_result"
    }
   ],
   "source": [
    "list(enumerate(SeisCumbres))"
   ]
  },
  {
   "cell_type": "code",
   "execution_count": 14,
   "metadata": {},
   "outputs": [
    {
     "data": {
      "text/plain": [
       "'Américas'"
      ]
     },
     "execution_count": 14,
     "metadata": {},
     "output_type": "execute_result"
    }
   ],
   "source": [
    "# te acordás de la indexación? \n",
    "# cómo harías para recuperar la palabra 'Américas'?\n",
    "\n",
    "CumbresxContinente[1][0] "
   ]
  },
  {
   "cell_type": "markdown",
   "metadata": {},
   "source": [
    "En este caso usamos subíndices, como si fuera una __matriz__ (array de dos dimensiones). Como '_CumbresXContinente_' tiene 3 atributos por objeto, accedo al primer elemento del segundo objeto"
   ]
  },
  {
   "cell_type": "code",
   "execution_count": 17,
   "metadata": {},
   "outputs": [
    {
     "ename": "ValueError",
     "evalue": "list.remove(x): x not in list",
     "output_type": "error",
     "traceback": [
      "\u001b[1;31m---------------------------------------------------------------------------\u001b[0m",
      "\u001b[1;31mValueError\u001b[0m                                Traceback (most recent call last)",
      "\u001b[1;32m<ipython-input-17-a043764f6db7>\u001b[0m in \u001b[0;36m<module>\u001b[1;34m\u001b[0m\n\u001b[0;32m      2\u001b[0m \u001b[1;31m# intentá con .remove()\u001b[0m\u001b[1;33m\u001b[0m\u001b[1;33m\u001b[0m\u001b[1;33m\u001b[0m\u001b[0m\n\u001b[0;32m      3\u001b[0m \u001b[1;31m# si no sabés cómo comenzar, acordaté de pedir ayuda!\u001b[0m\u001b[1;33m\u001b[0m\u001b[1;33m\u001b[0m\u001b[1;33m\u001b[0m\u001b[0m\n\u001b[1;32m----> 4\u001b[1;33m \u001b[0mCumbresxContinente\u001b[0m\u001b[1;33m.\u001b[0m\u001b[0mremove\u001b[0m\u001b[1;33m(\u001b[0m\u001b[1;33m(\u001b[0m\u001b[1;34m'Américas'\u001b[0m\u001b[1;33m,\u001b[0m \u001b[1;34m'Aconcagua'\u001b[0m\u001b[1;33m,\u001b[0m \u001b[1;36m6962\u001b[0m\u001b[1;33m)\u001b[0m\u001b[1;33m)\u001b[0m\u001b[1;33m\u001b[0m\u001b[1;33m\u001b[0m\u001b[0m\n\u001b[0m",
      "\u001b[1;31mValueError\u001b[0m: list.remove(x): x not in list"
     ]
    }
   ],
   "source": [
    "# tenemos que modificar 'Américas'\n",
    "# intentá con .remove()\n",
    "CumbresxContinente.remove(('Américas', 'Aconcagua', 6962))"
   ]
  },
  {
   "cell_type": "markdown",
   "metadata": {},
   "source": [
    " * A diferencia de .pop(), .remove() no arroja el resultado del ítem eliminado. Mientras en el primero se referencia el índice del ítem, en el segundo se menciona el ítem completo"
   ]
  },
  {
   "cell_type": "code",
   "execution_count": 18,
   "metadata": {},
   "outputs": [],
   "source": [
    "# por qué borramos la tupla completa \n",
    "# en lugar de reemplazar 'Américas' por 'América del Sur'?\n",
    "CumbresxContinente.insert(2, ('América del Sur', 'Aconcagua', 6962))"
   ]
  },
  {
   "cell_type": "code",
   "execution_count": 19,
   "metadata": {},
   "outputs": [
    {
     "data": {
      "text/plain": [
       "[('África', 'Kilimanjaro', 5893),\n",
       " ('América del Norte', 'Denali', 6168),\n",
       " ('América del Sur', 'Aconcagua', 6962),\n",
       " ('Antártida', 'Maciso Vinson', 4892),\n",
       " ('Asia', 'Everest', 8848),\n",
       " ('Europa', 'Mont Blanc', 4810),\n",
       " ('Oceanía', 'Nemangkawi', 4884),\n",
       " ('América del Norte', 'Denali', 6168)]"
      ]
     },
     "execution_count": 19,
     "metadata": {},
     "output_type": "execute_result"
    }
   ],
   "source": [
    "CumbresxContinente"
   ]
  },
  {
   "cell_type": "markdown",
   "metadata": {},
   "source": [
    "Ahora nos damos cuenta que hay una referencia mal ingresada. La cima europea no es el Mont Blanc, sino el Elbrus. Debemos corregirlo!"
   ]
  },
  {
   "cell_type": "code",
   "execution_count": 20,
   "metadata": {},
   "outputs": [],
   "source": [
    "# incorporá a CumbresxContinente ('Europa', 'Elbrus', 5642) en el sexto lugar, ¿qué comando usarías?\n",
    "CumbresxContinente.remove(('Europa', 'Mont Blanc', 4810))\n",
    "CumbresxContinente.insert(5,('Europa', 'Elbrus', 5642))"
   ]
  },
  {
   "cell_type": "code",
   "execution_count": 21,
   "metadata": {},
   "outputs": [
    {
     "data": {
      "text/plain": [
       "[('África', 'Kilimanjaro', 5893),\n",
       " ('América del Norte', 'Denali', 6168),\n",
       " ('América del Sur', 'Aconcagua', 6962),\n",
       " ('Antártida', 'Maciso Vinson', 4892),\n",
       " ('Asia', 'Everest', 8848),\n",
       " ('Europa', 'Elbrus', 5642),\n",
       " ('Oceanía', 'Nemangkawi', 4884),\n",
       " ('América del Norte', 'Denali', 6168)]"
      ]
     },
     "execution_count": 21,
     "metadata": {},
     "output_type": "execute_result"
    }
   ],
   "source": [
    "CumbresxContinente"
   ]
  },
  {
   "cell_type": "code",
   "execution_count": 25,
   "metadata": {},
   "outputs": [
    {
     "data": {
      "text/plain": [
       "[5893, 6168, 6962, 4892, 8848, 5642, 4884, 6168]"
      ]
     },
     "execution_count": 25,
     "metadata": {},
     "output_type": "execute_result"
    }
   ],
   "source": [
    "# acá presentamos la estructura de una lista de comprensión\n",
    "# las listas por comprensión son análogas a un loop FOR, aunque en una sólo línea!\n",
    "alturas=list(c for a,b,c in CumbresxContinente)\n",
    "alturas"
   ]
  },
  {
   "cell_type": "code",
   "execution_count": 26,
   "metadata": {},
   "outputs": [
    {
     "data": {
      "text/plain": [
       "4884"
      ]
     },
     "execution_count": 26,
     "metadata": {},
     "output_type": "execute_result"
    }
   ],
   "source": [
    "min(alturas)"
   ]
  },
  {
   "cell_type": "code",
   "execution_count": 29,
   "metadata": {},
   "outputs": [
    {
     "data": {
      "text/plain": [
       "range(0, 8)"
      ]
     },
     "execution_count": 29,
     "metadata": {},
     "output_type": "execute_result"
    }
   ],
   "source": [
    "range(len(alturas))"
   ]
  },
  {
   "cell_type": "code",
   "execution_count": null,
   "metadata": {},
   "outputs": [],
   "source": []
  }
 ],
 "metadata": {
  "kernelspec": {
   "display_name": "Python 3",
   "language": "python",
   "name": "python3"
  },
  "language_info": {
   "codemirror_mode": {
    "name": "ipython",
    "version": 3
   },
   "file_extension": ".py",
   "mimetype": "text/x-python",
   "name": "python",
   "nbconvert_exporter": "python",
   "pygments_lexer": "ipython3",
   "version": "3.7.2"
  }
 },
 "nbformat": 4,
 "nbformat_minor": 2
}
